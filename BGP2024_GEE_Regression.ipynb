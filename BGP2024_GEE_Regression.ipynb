{
 "cells": [
  {
   "cell_type": "markdown",
   "id": "28c9c1c4-4bfd-4629-82ed-ddf872aa0a5d",
   "metadata": {},
   "source": [
    "# Assignment #2 Regression"
   ]
  },
  {
   "cell_type": "markdown",
   "id": "d6723a10-d0d2-4f36-b1d8-3e63d6d10de9",
   "metadata": {},
   "source": [
    "Submitted by:\n",
    "\n",
    "Jazib Imran\n",
    "\n",
    "Anjali Bhagat\n",
    "\n",
    "Adopted from: https://geemap.org/notebooks/32_supervised_classification/"
   ]
  },
  {
   "cell_type": "code",
   "execution_count": 2,
   "id": "daaffd5b-d984-42c0-bfd6-30a42fdc0ccf",
   "metadata": {},
   "outputs": [
    {
     "data": {
      "text/html": [
       "\n",
       "            <style>\n",
       "                .geemap-dark {\n",
       "                    --jp-widgets-color: white;\n",
       "                    --jp-widgets-label-color: white;\n",
       "                    --jp-ui-font-color1: white;\n",
       "                    --jp-layout-color2: #454545;\n",
       "                    background-color: #383838;\n",
       "                }\n",
       "\n",
       "                .geemap-dark .jupyter-button {\n",
       "                    --jp-layout-color3: #383838;\n",
       "                }\n",
       "\n",
       "                .geemap-colab {\n",
       "                    background-color: var(--colab-primary-surface-color, white);\n",
       "                }\n",
       "\n",
       "                .geemap-colab .jupyter-button {\n",
       "                    --jp-layout-color3: var(--colab-primary-surface-color, white);\n",
       "                }\n",
       "            </style>\n",
       "            "
      ],
      "text/plain": [
       "<IPython.core.display.HTML object>"
      ]
     },
     "metadata": {},
     "output_type": "display_data"
    }
   ],
   "source": [
    "import ee\n",
    "import geemap"
   ]
  },
  {
   "cell_type": "code",
   "execution_count": 3,
   "id": "c0ac39ba-1228-4d90-aee7-a1337f4de451",
   "metadata": {},
   "outputs": [
    {
     "data": {
      "text/html": [
       "\n",
       "            <style>\n",
       "                .geemap-dark {\n",
       "                    --jp-widgets-color: white;\n",
       "                    --jp-widgets-label-color: white;\n",
       "                    --jp-ui-font-color1: white;\n",
       "                    --jp-layout-color2: #454545;\n",
       "                    background-color: #383838;\n",
       "                }\n",
       "\n",
       "                .geemap-dark .jupyter-button {\n",
       "                    --jp-layout-color3: #383838;\n",
       "                }\n",
       "\n",
       "                .geemap-colab {\n",
       "                    background-color: var(--colab-primary-surface-color, white);\n",
       "                }\n",
       "\n",
       "                .geemap-colab .jupyter-button {\n",
       "                    --jp-layout-color3: var(--colab-primary-surface-color, white);\n",
       "                }\n",
       "            </style>\n",
       "            "
      ],
      "text/plain": [
       "<IPython.core.display.HTML object>"
      ]
     },
     "metadata": {},
     "output_type": "display_data"
    },
    {
     "data": {
      "text/plain": [
       "True"
      ]
     },
     "execution_count": 3,
     "metadata": {},
     "output_type": "execute_result"
    }
   ],
   "source": [
    "# If you are running this notebook for the first time, you need to activate the command below for the authentication flow:\n",
    "ee.Authenticate()"
   ]
  },
  {
   "cell_type": "code",
   "execution_count": 4,
   "id": "f652e7ab-d4ab-4ac9-b79b-48232f78984a",
   "metadata": {},
   "outputs": [
    {
     "data": {
      "text/html": [
       "\n",
       "            <style>\n",
       "                .geemap-dark {\n",
       "                    --jp-widgets-color: white;\n",
       "                    --jp-widgets-label-color: white;\n",
       "                    --jp-ui-font-color1: white;\n",
       "                    --jp-layout-color2: #454545;\n",
       "                    background-color: #383838;\n",
       "                }\n",
       "\n",
       "                .geemap-dark .jupyter-button {\n",
       "                    --jp-layout-color3: #383838;\n",
       "                }\n",
       "\n",
       "                .geemap-colab {\n",
       "                    background-color: var(--colab-primary-surface-color, white);\n",
       "                }\n",
       "\n",
       "                .geemap-colab .jupyter-button {\n",
       "                    --jp-layout-color3: var(--colab-primary-surface-color, white);\n",
       "                }\n",
       "            </style>\n",
       "            "
      ],
      "text/plain": [
       "<IPython.core.display.HTML object>"
      ]
     },
     "metadata": {},
     "output_type": "display_data"
    },
    {
     "name": "stdout",
     "output_type": "stream",
     "text": [
      "Google Earth Engine has initialized successfully!\n"
     ]
    }
   ],
   "source": [
    "try:\n",
    "    # Initialize the library.\n",
    "    ee.Initialize()\n",
    "    print('Google Earth Engine has initialized successfully!')\n",
    "except ee.EEException as e:\n",
    "    print('Google Earth Engine has failed to initialize!')\n",
    "except:\n",
    "    print(\"Unexpected error:\", sys.exc_info()[0])\n",
    "    raise"
   ]
  },
  {
   "cell_type": "markdown",
   "id": "12fc848b",
   "metadata": {},
   "source": [
    "For this regression task, we would use Nairobi as our Region of interest.\n",
    "We take the central point of Nairobi and then get its 10000m bounds to run our classfication problem"
   ]
  },
  {
   "cell_type": "code",
   "execution_count": 8,
   "id": "d8bde8bc",
   "metadata": {},
   "outputs": [
    {
     "data": {
      "text/html": [
       "\n",
       "            <style>\n",
       "                .geemap-dark {\n",
       "                    --jp-widgets-color: white;\n",
       "                    --jp-widgets-label-color: white;\n",
       "                    --jp-ui-font-color1: white;\n",
       "                    --jp-layout-color2: #454545;\n",
       "                    background-color: #383838;\n",
       "                }\n",
       "\n",
       "                .geemap-dark .jupyter-button {\n",
       "                    --jp-layout-color3: #383838;\n",
       "                }\n",
       "\n",
       "                .geemap-colab {\n",
       "                    background-color: var(--colab-primary-surface-color, white);\n",
       "                }\n",
       "\n",
       "                .geemap-colab .jupyter-button {\n",
       "                    --jp-layout-color3: var(--colab-primary-surface-color, white);\n",
       "                }\n",
       "            </style>\n",
       "            "
      ],
      "text/plain": [
       "<IPython.core.display.HTML object>"
      ]
     },
     "metadata": {},
     "output_type": "display_data"
    },
    {
     "data": {
      "application/vnd.jupyter.widget-view+json": {
       "model_id": "d9f5c9d01fbe478aafa3c2307a272490",
       "version_major": 2,
       "version_minor": 0
      },
      "text/plain": [
       "Map(center=[-1.2921, 36.8219], controls=(WidgetControl(options=['position', 'transparent_bg'], widget=SearchDa…"
      ]
     },
     "execution_count": 8,
     "metadata": {},
     "output_type": "execute_result"
    }
   ],
   "source": [
    "Map= geemap.Map()\n",
    "point = ee.Geometry.Point([36.8219, -1.2921])\n",
    "boundingBox = point.buffer(10000).bounds()\n",
    "\n",
    "# Display the bounding box\n",
    "Map.addLayer(boundingBox, {}, \"Nairobi Bounding Box\")\n",
    "Map.centerObject(point, 10)\n",
    "Map"
   ]
  },
  {
   "cell_type": "markdown",
   "id": "fe4eea47",
   "metadata": {},
   "source": [
    "Collecting the Landsat-8 data"
   ]
  },
  {
   "cell_type": "code",
   "execution_count": 17,
   "id": "342e9749-6958-4f3b-bfad-15c7c68b48e1",
   "metadata": {},
   "outputs": [
    {
     "data": {
      "text/html": [
       "\n",
       "            <style>\n",
       "                .geemap-dark {\n",
       "                    --jp-widgets-color: white;\n",
       "                    --jp-widgets-label-color: white;\n",
       "                    --jp-ui-font-color1: white;\n",
       "                    --jp-layout-color2: #454545;\n",
       "                    background-color: #383838;\n",
       "                }\n",
       "\n",
       "                .geemap-dark .jupyter-button {\n",
       "                    --jp-layout-color3: #383838;\n",
       "                }\n",
       "\n",
       "                .geemap-colab {\n",
       "                    background-color: var(--colab-primary-surface-color, white);\n",
       "                }\n",
       "\n",
       "                .geemap-colab .jupyter-button {\n",
       "                    --jp-layout-color3: var(--colab-primary-surface-color, white);\n",
       "                }\n",
       "            </style>\n",
       "            "
      ],
      "text/plain": [
       "<IPython.core.display.HTML object>"
      ]
     },
     "metadata": {},
     "output_type": "display_data"
    }
   ],
   "source": [
    "landsat8 = ee.ImageCollection('LANDSAT/LC08/C02/T1_L2') \\\n",
    "    .filterDate('2020-01-01', '2020-12-31') \\\n",
    "    .filterBounds(boundingBox)"
   ]
  },
  {
   "cell_type": "markdown",
   "id": "98e38326",
   "metadata": {},
   "source": [
    "We can also print how many images are there in our collection"
   ]
  },
  {
   "cell_type": "code",
   "execution_count": 18,
   "id": "c2199650",
   "metadata": {},
   "outputs": [
    {
     "data": {
      "text/html": [
       "\n",
       "            <style>\n",
       "                .geemap-dark {\n",
       "                    --jp-widgets-color: white;\n",
       "                    --jp-widgets-label-color: white;\n",
       "                    --jp-ui-font-color1: white;\n",
       "                    --jp-layout-color2: #454545;\n",
       "                    background-color: #383838;\n",
       "                }\n",
       "\n",
       "                .geemap-dark .jupyter-button {\n",
       "                    --jp-layout-color3: #383838;\n",
       "                }\n",
       "\n",
       "                .geemap-colab {\n",
       "                    background-color: var(--colab-primary-surface-color, white);\n",
       "                }\n",
       "\n",
       "                .geemap-colab .jupyter-button {\n",
       "                    --jp-layout-color3: var(--colab-primary-surface-color, white);\n",
       "                }\n",
       "            </style>\n",
       "            "
      ],
      "text/plain": [
       "<IPython.core.display.HTML object>"
      ]
     },
     "metadata": {},
     "output_type": "display_data"
    },
    {
     "name": "stdout",
     "output_type": "stream",
     "text": [
      "Number of images in the collection:  22\n"
     ]
    }
   ],
   "source": [
    "listOfImages = landsat8.aggregate_array('system:index').getInfo()\n",
    "print('Number of images in the collection: ', len(listOfImages))"
   ]
  },
  {
   "cell_type": "markdown",
   "id": "8bd1ed85",
   "metadata": {},
   "source": [
    "### NDVI Calculation and Monthly Composite Generation\n",
    "\n",
    "To calculate monthly NDVI composites for the year 2020, we begin by defining a function to compute NDVI using the near-infrared (NIR) and red bands (`SR_B5` and `SR_B4`, respectively) from the Landsat 8 surface reflectance data. The `calculate_ndvi` function performs this calculation for each image in the Landsat 8 collection by applying the `normalizedDifference` function, which is typical for NDVI calculation:\n",
    "\n",
    "1. **NDVI Calculation**: The NIR and red bands are combined to calculate NDVI, which is added as a new band to each image in the collection.\n",
    "  \n",
    "2. **Monthly Composites**: We define a `monthly_composite` function that creates a monthly average NDVI composite. For each month in 2020:\n",
    "   - The function filters the collection to include images within that month.\n",
    "   - It calculates the mean NDVI and adds the month as metadata.\n",
    "  \n",
    "3. **Generate Collection for 2020**: Using a mapped function, the code iterates over each month (from January to December) to create an image collection containing monthly NDVI composites for the entire year.\n"
   ]
  },
  {
   "cell_type": "markdown",
   "id": "58b6041d",
   "metadata": {},
   "source": []
  },
  {
   "cell_type": "code",
   "execution_count": null,
   "id": "465eff69",
   "metadata": {},
   "outputs": [
    {
     "data": {
      "text/html": [
       "\n",
       "            <style>\n",
       "                .geemap-dark {\n",
       "                    --jp-widgets-color: white;\n",
       "                    --jp-widgets-label-color: white;\n",
       "                    --jp-ui-font-color1: white;\n",
       "                    --jp-layout-color2: #454545;\n",
       "                    background-color: #383838;\n",
       "                }\n",
       "\n",
       "                .geemap-dark .jupyter-button {\n",
       "                    --jp-layout-color3: #383838;\n",
       "                }\n",
       "\n",
       "                .geemap-colab {\n",
       "                    background-color: var(--colab-primary-surface-color, white);\n",
       "                }\n",
       "\n",
       "                .geemap-colab .jupyter-button {\n",
       "                    --jp-layout-color3: var(--colab-primary-surface-color, white);\n",
       "                }\n",
       "            </style>\n",
       "            "
      ],
      "text/plain": [
       "<IPython.core.display.HTML object>"
      ]
     },
     "metadata": {},
     "output_type": "display_data"
    }
   ],
   "source": [
    "def calculate_ndvi(image):\n",
    "    ndvi = image.normalizedDifference(['SR_B5', 'SR_B4']).rename('NDVI')  # B5=NIR, B4=Red\n",
    "    return image.addBands(ndvi)\n",
    "landsat8_ndvi = landsat8.map(calculate_ndvi)\n",
    "def monthly_composite(month):\n",
    "    start_date = ee.Date.fromYMD(2020, month, 1)\n",
    "    end_date = start_date.advance(1, 'month')\n",
    "    monthly_ndvi = landsat8_ndvi.filterDate(start_date, end_date).select('NDVI')\n",
    "    return monthly_ndvi.mean().set('month', month)  # Create monthly composite and set metadata\n",
    "\n",
    "months = ee.List.sequence(1, 12)\n",
    "monthly_ndvi_2020 = ee.ImageCollection(months.map(lambda month: monthly_composite(ee.Number(month))))"
   ]
  },
  {
   "cell_type": "markdown",
   "id": "e1549748",
   "metadata": {},
   "source": [
    "### Precipitation and Elevation Data Extraction\n",
    "\n",
    "This code snippet extracts precipitation and elevation data for the year 2020:\n",
    "\n",
    "1. **Precipitation Data**: It loads daily precipitation data from the CHIRPS dataset, filtering it to include only the year 2020 and the specified bounding box. The total annual precipitation is then calculated by summing the daily values.\n",
    "\n",
    "2. **Elevation Data**: The SRTM elevation data is retrieved and clipped to the same bounding box.\n",
    "\n",
    "3. **NDVI Mean Calculation**: The mean NDVI is computed from the previously generated monthly NDVI composites for the year.\n"
   ]
  },
  {
   "cell_type": "code",
   "execution_count": null,
   "id": "26983f7f",
   "metadata": {},
   "outputs": [
    {
     "data": {
      "text/html": [
       "\n",
       "            <style>\n",
       "                .geemap-dark {\n",
       "                    --jp-widgets-color: white;\n",
       "                    --jp-widgets-label-color: white;\n",
       "                    --jp-ui-font-color1: white;\n",
       "                    --jp-layout-color2: #454545;\n",
       "                    background-color: #383838;\n",
       "                }\n",
       "\n",
       "                .geemap-dark .jupyter-button {\n",
       "                    --jp-layout-color3: #383838;\n",
       "                }\n",
       "\n",
       "                .geemap-colab {\n",
       "                    background-color: var(--colab-primary-surface-color, white);\n",
       "                }\n",
       "\n",
       "                .geemap-colab .jupyter-button {\n",
       "                    --jp-layout-color3: var(--colab-primary-surface-color, white);\n",
       "                }\n",
       "            </style>\n",
       "            "
      ],
      "text/plain": [
       "<IPython.core.display.HTML object>"
      ]
     },
     "metadata": {},
     "output_type": "display_data"
    }
   ],
   "source": [
    "precipitation = ee.ImageCollection('UCSB-CHG/CHIRPS/DAILY') \\\n",
    "    .filterDate('2020-01-01', '2020-12-31') \\\n",
    "    .filterBounds(boundingBox)\n",
    "elevation = ee.Image('USGS/SRTMGL1_003').clip(boundingBox)\n",
    "annual_precipitation_2020 = precipitation.sum().clip(boundingBox)\n",
    "ndvi_mean=monthly_ndvi_2020.mean()"
   ]
  },
  {
   "cell_type": "code",
   "execution_count": 41,
   "id": "7da4a52d",
   "metadata": {},
   "outputs": [
    {
     "data": {
      "text/html": [
       "\n",
       "            <style>\n",
       "                .geemap-dark {\n",
       "                    --jp-widgets-color: white;\n",
       "                    --jp-widgets-label-color: white;\n",
       "                    --jp-ui-font-color1: white;\n",
       "                    --jp-layout-color2: #454545;\n",
       "                    background-color: #383838;\n",
       "                }\n",
       "\n",
       "                .geemap-dark .jupyter-button {\n",
       "                    --jp-layout-color3: #383838;\n",
       "                }\n",
       "\n",
       "                .geemap-colab {\n",
       "                    background-color: var(--colab-primary-surface-color, white);\n",
       "                }\n",
       "\n",
       "                .geemap-colab .jupyter-button {\n",
       "                    --jp-layout-color3: var(--colab-primary-surface-color, white);\n",
       "                }\n",
       "            </style>\n",
       "            "
      ],
      "text/plain": [
       "<IPython.core.display.HTML object>"
      ]
     },
     "metadata": {},
     "output_type": "display_data"
    }
   ],
   "source": [
    "# Stack predictor and target variables into one image for sampling\n",
    "stacked_image = elevation.rename('elevation') \\\n",
    "    .addBands(annual_precipitation_2020.rename('precipitation')) \\\n",
    "    .addBands(ndvi_mean.rename('NDVI'))"
   ]
  },
  {
   "cell_type": "markdown",
   "id": "29e64cfb",
   "metadata": {},
   "source": [
    "### Random Sampling of Predictor and Target Variables\n",
    "\n",
    "This code snippet demonstrates how to sample predictor variables (elevation and precipitation) and the target variable (NDVI) using random points:\n",
    "\n",
    "1. **Random Points Generation**: 1000 random sampling points are generated within the specified bounding box. A seed is set for reproducibility.\n",
    "\n",
    "2. **Data Sampling**: The `sampleRegions` function is utilized on the stacked image containing NDVI, elevation, and precipitation data. The sampling is conducted at a scale of 30 meters (the resolution of Landsat data), and geometries are retained to identify the locations of the samples.\n"
   ]
  },
  {
   "cell_type": "code",
   "execution_count": 42,
   "id": "a73241ff-79ba-4e3b-951c-7a1d84cb73ca",
   "metadata": {},
   "outputs": [
    {
     "data": {
      "text/html": [
       "\n",
       "            <style>\n",
       "                .geemap-dark {\n",
       "                    --jp-widgets-color: white;\n",
       "                    --jp-widgets-label-color: white;\n",
       "                    --jp-ui-font-color1: white;\n",
       "                    --jp-layout-color2: #454545;\n",
       "                    background-color: #383838;\n",
       "                }\n",
       "\n",
       "                .geemap-dark .jupyter-button {\n",
       "                    --jp-layout-color3: #383838;\n",
       "                }\n",
       "\n",
       "                .geemap-colab {\n",
       "                    background-color: var(--colab-primary-surface-color, white);\n",
       "                }\n",
       "\n",
       "                .geemap-colab .jupyter-button {\n",
       "                    --jp-layout-color3: var(--colab-primary-surface-color, white);\n",
       "                }\n",
       "            </style>\n",
       "            "
      ],
      "text/plain": [
       "<IPython.core.display.HTML object>"
      ]
     },
     "metadata": {},
     "output_type": "display_data"
    }
   ],
   "source": [
    "random_points = ee.FeatureCollection.randomPoints(boundingBox, 1000, seed=42)\n",
    "sampled_data = stacked_image.sampleRegions(\n",
    "    collection=random_points,\n",
    "    scale=30,  # Scale set to Landsat resolution\n",
    "    geometries=True  # Retain geometries to know where each sample was taken\n",
    ")"
   ]
  },
  {
   "cell_type": "markdown",
   "id": "d6a279bd",
   "metadata": {},
   "source": [
    "Now we conver that samples_data into a dataframe"
   ]
  },
  {
   "cell_type": "code",
   "execution_count": 44,
   "id": "9a8cb243",
   "metadata": {},
   "outputs": [
    {
     "data": {
      "text/html": [
       "\n",
       "            <style>\n",
       "                .geemap-dark {\n",
       "                    --jp-widgets-color: white;\n",
       "                    --jp-widgets-label-color: white;\n",
       "                    --jp-ui-font-color1: white;\n",
       "                    --jp-layout-color2: #454545;\n",
       "                    background-color: #383838;\n",
       "                }\n",
       "\n",
       "                .geemap-dark .jupyter-button {\n",
       "                    --jp-layout-color3: #383838;\n",
       "                }\n",
       "\n",
       "                .geemap-colab {\n",
       "                    background-color: var(--colab-primary-surface-color, white);\n",
       "                }\n",
       "\n",
       "                .geemap-colab .jupyter-button {\n",
       "                    --jp-layout-color3: var(--colab-primary-surface-color, white);\n",
       "                }\n",
       "            </style>\n",
       "            "
      ],
      "text/plain": [
       "<IPython.core.display.HTML object>"
      ]
     },
     "metadata": {},
     "output_type": "display_data"
    },
    {
     "data": {
      "text/html": [
       "<div>\n",
       "<style scoped>\n",
       "    .dataframe tbody tr th:only-of-type {\n",
       "        vertical-align: middle;\n",
       "    }\n",
       "\n",
       "    .dataframe tbody tr th {\n",
       "        vertical-align: top;\n",
       "    }\n",
       "\n",
       "    .dataframe thead th {\n",
       "        text-align: right;\n",
       "    }\n",
       "</style>\n",
       "<table border=\"1\" class=\"dataframe\">\n",
       "  <thead>\n",
       "    <tr style=\"text-align: right;\">\n",
       "      <th></th>\n",
       "      <th>NDVI</th>\n",
       "      <th>elevation</th>\n",
       "      <th>precipitation</th>\n",
       "    </tr>\n",
       "  </thead>\n",
       "  <tbody>\n",
       "    <tr>\n",
       "      <th>0</th>\n",
       "      <td>0.166124</td>\n",
       "      <td>1589</td>\n",
       "      <td>1070.962303</td>\n",
       "    </tr>\n",
       "    <tr>\n",
       "      <th>1</th>\n",
       "      <td>0.174285</td>\n",
       "      <td>1713</td>\n",
       "      <td>1070.547753</td>\n",
       "    </tr>\n",
       "    <tr>\n",
       "      <th>2</th>\n",
       "      <td>0.112632</td>\n",
       "      <td>1644</td>\n",
       "      <td>1048.908933</td>\n",
       "    </tr>\n",
       "    <tr>\n",
       "      <th>3</th>\n",
       "      <td>0.092606</td>\n",
       "      <td>1618</td>\n",
       "      <td>1048.908933</td>\n",
       "    </tr>\n",
       "    <tr>\n",
       "      <th>4</th>\n",
       "      <td>0.077691</td>\n",
       "      <td>1645</td>\n",
       "      <td>988.865744</td>\n",
       "    </tr>\n",
       "    <tr>\n",
       "      <th>...</th>\n",
       "      <td>...</td>\n",
       "      <td>...</td>\n",
       "      <td>...</td>\n",
       "    </tr>\n",
       "    <tr>\n",
       "      <th>995</th>\n",
       "      <td>0.195149</td>\n",
       "      <td>1634</td>\n",
       "      <td>1064.276649</td>\n",
       "    </tr>\n",
       "    <tr>\n",
       "      <th>996</th>\n",
       "      <td>0.054047</td>\n",
       "      <td>1597</td>\n",
       "      <td>1048.908933</td>\n",
       "    </tr>\n",
       "    <tr>\n",
       "      <th>997</th>\n",
       "      <td>0.181331</td>\n",
       "      <td>1660</td>\n",
       "      <td>1070.547753</td>\n",
       "    </tr>\n",
       "    <tr>\n",
       "      <th>998</th>\n",
       "      <td>0.142138</td>\n",
       "      <td>1876</td>\n",
       "      <td>1314.800226</td>\n",
       "    </tr>\n",
       "    <tr>\n",
       "      <th>999</th>\n",
       "      <td>0.145822</td>\n",
       "      <td>1621</td>\n",
       "      <td>966.149236</td>\n",
       "    </tr>\n",
       "  </tbody>\n",
       "</table>\n",
       "<p>1000 rows × 3 columns</p>\n",
       "</div>"
      ],
      "text/plain": [
       "         NDVI  elevation  precipitation\n",
       "0    0.166124       1589    1070.962303\n",
       "1    0.174285       1713    1070.547753\n",
       "2    0.112632       1644    1048.908933\n",
       "3    0.092606       1618    1048.908933\n",
       "4    0.077691       1645     988.865744\n",
       "..        ...        ...            ...\n",
       "995  0.195149       1634    1064.276649\n",
       "996  0.054047       1597    1048.908933\n",
       "997  0.181331       1660    1070.547753\n",
       "998  0.142138       1876    1314.800226\n",
       "999  0.145822       1621     966.149236\n",
       "\n",
       "[1000 rows x 3 columns]"
      ]
     },
     "execution_count": 44,
     "metadata": {},
     "output_type": "execute_result"
    }
   ],
   "source": [
    "df=geemap.ee_to_df(sampled_data)\n",
    "df"
   ]
  },
  {
   "cell_type": "markdown",
   "id": "b24c62d3",
   "metadata": {},
   "source": [
    "### Machine Learning Regression Analysis\n",
    "\n",
    "In this code snippet, we perform a regression analysis using scikit-learn to predict NDVI based on elevation and precipitation:\n",
    "\n",
    "1. **Library Imports**: Necessary libraries such as `pandas`, `sklearn`, and `numpy` are imported for data manipulation, model training, and evaluation.\n",
    "\n",
    "2. **Define Predictors and Target**: The predictors (`elevation` and `precipitation`) and the target variable (`NDVI`) are defined from the DataFrame `df`.\n",
    "\n",
    "3. **Data Splitting**: The dataset is split into training and testing sets using an 80-20 split, ensuring a random state for reproducibility.\n",
    "\n",
    "4. **Model Initialization**: A linear regression model is initialized.\n",
    "\n",
    "5. **Model Training**: The model is fitted to the training data.\n",
    "\n",
    "6. **Predictions**: Predictions are made on the testing set.\n",
    "\n",
    "7. **Performance Evaluation**: The model's performance is evaluated using Mean Squared Error (MSE) and R-squared (R²) metrics, which are printed to the console.\n"
   ]
  },
  {
   "cell_type": "code",
   "execution_count": 47,
   "id": "855bcd53",
   "metadata": {},
   "outputs": [
    {
     "data": {
      "text/html": [
       "\n",
       "            <style>\n",
       "                .geemap-dark {\n",
       "                    --jp-widgets-color: white;\n",
       "                    --jp-widgets-label-color: white;\n",
       "                    --jp-ui-font-color1: white;\n",
       "                    --jp-layout-color2: #454545;\n",
       "                    background-color: #383838;\n",
       "                }\n",
       "\n",
       "                .geemap-dark .jupyter-button {\n",
       "                    --jp-layout-color3: #383838;\n",
       "                }\n",
       "\n",
       "                .geemap-colab {\n",
       "                    background-color: var(--colab-primary-surface-color, white);\n",
       "                }\n",
       "\n",
       "                .geemap-colab .jupyter-button {\n",
       "                    --jp-layout-color3: var(--colab-primary-surface-color, white);\n",
       "                }\n",
       "            </style>\n",
       "            "
      ],
      "text/plain": [
       "<IPython.core.display.HTML object>"
      ]
     },
     "metadata": {},
     "output_type": "display_data"
    },
    {
     "name": "stdout",
     "output_type": "stream",
     "text": [
      "Mean Squared Error (MSE): 0.003076259303782547\n",
      "R-squared (R2 Score): 0.09501113162379393\n"
     ]
    }
   ],
   "source": [
    "# Import necessary libraries\n",
    "import pandas as pd\n",
    "from sklearn.model_selection import train_test_split\n",
    "from sklearn.linear_model import LinearRegression\n",
    "from sklearn.metrics import mean_squared_error, r2_score\n",
    "import numpy as np\n",
    "\n",
    "X = df[['elevation', 'precipitation']]\n",
    "y = df['NDVI']\n",
    "X_train, X_test, y_train, y_test = train_test_split(X, y, test_size=0.2, random_state=42)\n",
    "\n",
    "\n",
    "model = LinearRegression()\n",
    "model.fit(X_train, y_train)\n",
    "y_pred = model.predict(X_test)\n",
    "\n",
    "\n",
    "mse = mean_squared_error(y_test, y_pred)\n",
    "r2 = r2_score(y_test, y_pred)\n",
    "\n",
    "print(f\"Mean Squared Error (MSE): {mse}\")\n",
    "print(f\"R-squared (R2 Score): {r2}\")\n",
    "\n"
   ]
  },
  {
   "cell_type": "markdown",
   "id": "29e20e49",
   "metadata": {},
   "source": [
    "# Machine Learning Regression Analysis with Dask\n",
    "\n",
    "In this section, we implement a regression analysis using Dask to predict NDVI based on elevation and precipitation. Dask is utilized for handling larger datasets that do not fit into memory and enables parallel processing.\n",
    "\n",
    "## Steps:\n",
    "\n",
    "1. **Convert Data to Dask DataFrame**: We start by converting our Pandas DataFrame into a Dask DataFrame to facilitate efficient handling of large datasets.\n",
    "\n",
    "2. **Prepare Predictor Variables**: We extract elevation and precipitation as predictor variables and convert them to Dask arrays.\n",
    "\n",
    "3. **Define Target Variable**: NDVI is defined as the target variable, also converted to a Dask array.\n",
    "\n",
    "4. **Split Data**: The dataset is split into training and testing sets using Dask's train-test split function.\n",
    "\n",
    "5. **Model Initialization**: A linear regression model from the Dask-ML library is initialized.\n",
    "\n",
    "6. **Model Fitting**: The model is fitted using the training data.\n",
    "\n",
    "7. **Predictions and Evaluation**: Predictions are made on the test set, and the model's performance is evaluated using Mean Squared Error (MSE) and R-squared (R²) metrics."
   ]
  },
  {
   "cell_type": "code",
   "execution_count": null,
   "id": "c2ce10ce",
   "metadata": {},
   "outputs": [
    {
     "data": {
      "text/html": [
       "\n",
       "            <style>\n",
       "                .geemap-dark {\n",
       "                    --jp-widgets-color: white;\n",
       "                    --jp-widgets-label-color: white;\n",
       "                    --jp-ui-font-color1: white;\n",
       "                    --jp-layout-color2: #454545;\n",
       "                    background-color: #383838;\n",
       "                }\n",
       "\n",
       "                .geemap-dark .jupyter-button {\n",
       "                    --jp-layout-color3: #383838;\n",
       "                }\n",
       "\n",
       "                .geemap-colab {\n",
       "                    background-color: var(--colab-primary-surface-color, white);\n",
       "                }\n",
       "\n",
       "                .geemap-colab .jupyter-button {\n",
       "                    --jp-layout-color3: var(--colab-primary-surface-color, white);\n",
       "                }\n",
       "            </style>\n",
       "            "
      ],
      "text/plain": [
       "<IPython.core.display.HTML object>"
      ]
     },
     "metadata": {},
     "output_type": "display_data"
    },
    {
     "name": "stdout",
     "output_type": "stream",
     "text": [
      "Dask Mean Squared Error (MSE): 0.0033128704621764333\n",
      "Dask R-squared (R2 Score): 0.1792045995902659\n"
     ]
    }
   ],
   "source": [
    "# Import necessary libraries\n",
    "import dask.dataframe as dd\n",
    "from dask_ml.model_selection import train_test_split as dask_train_test_split\n",
    "from dask_ml.linear_model import LinearRegression as DaskLinearRegression\n",
    "from dask_ml.metrics import mean_squared_error as dask_mean_squared_error, r2_score as dask_r2_score\n",
    "\n",
    "ddf = dd.from_pandas(df, npartitions=4)\n",
    "X_dd = ddf[['elevation', 'precipitation']].to_dask_array(lengths=True)  # Convert to Dask array\n",
    "y_dd = ddf['NDVI'].to_dask_array(lengths=True)  # Convert to Dask array\n",
    "\n",
    "X_train_dd, X_test_dd, y_train_dd, y_test_dd = dask_train_test_split(X_dd, y_dd, test_size=0.2, random_state=42)\n",
    "\n",
    "dask_model = DaskLinearRegression()\n",
    "dask_model.fit(X_train_dd, y_train_dd)\n",
    "y_pred_dd = dask_model.predict(X_test_dd)\n",
    "\n",
    "mse_dd = dask_mean_squared_error(y_test_dd, y_pred_dd)\n",
    "r2_dd = dask_r2_score(y_test_dd, y_pred_dd)\n",
    "\n",
    "print(f\"Dask Mean Squared Error (MSE): {mse_dd}\")\n",
    "print(f\"Dask R-squared (R2 Score): {r2_dd}\")\n"
   ]
  }
 ],
 "metadata": {
  "kernelspec": {
   "display_name": "gee_env",
   "language": "python",
   "name": "python3"
  },
  "language_info": {
   "codemirror_mode": {
    "name": "ipython",
    "version": 3
   },
   "file_extension": ".py",
   "mimetype": "text/x-python",
   "name": "python",
   "nbconvert_exporter": "python",
   "pygments_lexer": "ipython3",
   "version": "3.8.10"
  }
 },
 "nbformat": 4,
 "nbformat_minor": 5
}
