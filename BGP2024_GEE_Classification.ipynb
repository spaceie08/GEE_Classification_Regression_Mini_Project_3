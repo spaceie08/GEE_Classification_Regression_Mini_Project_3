{
 "cells": [
  {
   "cell_type": "markdown",
   "id": "28c9c1c4-4bfd-4629-82ed-ddf872aa0a5d",
   "metadata": {},
   "source": [
    "# Assignment #1 Classification"
   ]
  },
  {
   "cell_type": "markdown",
   "id": "d6723a10-d0d2-4f36-b1d8-3e63d6d10de9",
   "metadata": {},
   "source": [
    "Submitted by:\n",
    "\n",
    "Jazib Imran\n",
    "\n",
    "Anjali Bhagat\n",
    "\n",
    "Adopted from: https://geemap.org/notebooks/32_supervised_classification/"
   ]
  },
  {
   "cell_type": "code",
   "execution_count": 230,
   "id": "daaffd5b-d984-42c0-bfd6-30a42fdc0ccf",
   "metadata": {},
   "outputs": [
    {
     "data": {
      "text/html": [
       "\n",
       "            <style>\n",
       "                .geemap-dark {\n",
       "                    --jp-widgets-color: white;\n",
       "                    --jp-widgets-label-color: white;\n",
       "                    --jp-ui-font-color1: white;\n",
       "                    --jp-layout-color2: #454545;\n",
       "                    background-color: #383838;\n",
       "                }\n",
       "\n",
       "                .geemap-dark .jupyter-button {\n",
       "                    --jp-layout-color3: #383838;\n",
       "                }\n",
       "\n",
       "                .geemap-colab {\n",
       "                    background-color: var(--colab-primary-surface-color, white);\n",
       "                }\n",
       "\n",
       "                .geemap-colab .jupyter-button {\n",
       "                    --jp-layout-color3: var(--colab-primary-surface-color, white);\n",
       "                }\n",
       "            </style>\n",
       "            "
      ],
      "text/plain": [
       "<IPython.core.display.HTML object>"
      ]
     },
     "metadata": {},
     "output_type": "display_data"
    }
   ],
   "source": [
    "import ee\n",
    "import geemap"
   ]
  },
  {
   "cell_type": "code",
   "execution_count": 85,
   "id": "c0ac39ba-1228-4d90-aee7-a1337f4de451",
   "metadata": {},
   "outputs": [
    {
     "data": {
      "text/html": [
       "\n",
       "            <style>\n",
       "                .geemap-dark {\n",
       "                    --jp-widgets-color: white;\n",
       "                    --jp-widgets-label-color: white;\n",
       "                    --jp-ui-font-color1: white;\n",
       "                    --jp-layout-color2: #454545;\n",
       "                    background-color: #383838;\n",
       "                }\n",
       "\n",
       "                .geemap-dark .jupyter-button {\n",
       "                    --jp-layout-color3: #383838;\n",
       "                }\n",
       "\n",
       "                .geemap-colab {\n",
       "                    background-color: var(--colab-primary-surface-color, white);\n",
       "                }\n",
       "\n",
       "                .geemap-colab .jupyter-button {\n",
       "                    --jp-layout-color3: var(--colab-primary-surface-color, white);\n",
       "                }\n",
       "            </style>\n",
       "            "
      ],
      "text/plain": [
       "<IPython.core.display.HTML object>"
      ]
     },
     "metadata": {},
     "output_type": "display_data"
    },
    {
     "data": {
      "text/plain": [
       "True"
      ]
     },
     "execution_count": 85,
     "metadata": {},
     "output_type": "execute_result"
    }
   ],
   "source": [
    "# If you are running this notebook for the first time, you need to activate the command below for the authentication flow:\n",
    "ee.Authenticate()"
   ]
  },
  {
   "cell_type": "code",
   "execution_count": 86,
   "id": "f652e7ab-d4ab-4ac9-b79b-48232f78984a",
   "metadata": {},
   "outputs": [
    {
     "data": {
      "text/html": [
       "\n",
       "            <style>\n",
       "                .geemap-dark {\n",
       "                    --jp-widgets-color: white;\n",
       "                    --jp-widgets-label-color: white;\n",
       "                    --jp-ui-font-color1: white;\n",
       "                    --jp-layout-color2: #454545;\n",
       "                    background-color: #383838;\n",
       "                }\n",
       "\n",
       "                .geemap-dark .jupyter-button {\n",
       "                    --jp-layout-color3: #383838;\n",
       "                }\n",
       "\n",
       "                .geemap-colab {\n",
       "                    background-color: var(--colab-primary-surface-color, white);\n",
       "                }\n",
       "\n",
       "                .geemap-colab .jupyter-button {\n",
       "                    --jp-layout-color3: var(--colab-primary-surface-color, white);\n",
       "                }\n",
       "            </style>\n",
       "            "
      ],
      "text/plain": [
       "<IPython.core.display.HTML object>"
      ]
     },
     "metadata": {},
     "output_type": "display_data"
    },
    {
     "name": "stdout",
     "output_type": "stream",
     "text": [
      "Google Earth Engine has initialized successfully!\n"
     ]
    }
   ],
   "source": [
    "try:\n",
    "    # Initialize the library.\n",
    "    ee.Initialize()\n",
    "    print('Google Earth Engine has initialized successfully!')\n",
    "except ee.EEException as e:\n",
    "    print('Google Earth Engine has failed to initialize!')\n",
    "except:\n",
    "    print(\"Unexpected error:\", sys.exc_info()[0])\n",
    "    raise"
   ]
  },
  {
   "cell_type": "markdown",
   "id": "12fc848b",
   "metadata": {},
   "source": [
    "For this classfication task, we would use Amsterdam as our Region of interest.\n",
    "We take the central point of Amsterdam and then get its 10000m bounds to run our classfication problem"
   ]
  },
  {
   "cell_type": "code",
   "execution_count": 87,
   "id": "b70c4dc0-bc86-45c2-a9ef-242fd97fd2fc",
   "metadata": {},
   "outputs": [
    {
     "data": {
      "text/html": [
       "\n",
       "            <style>\n",
       "                .geemap-dark {\n",
       "                    --jp-widgets-color: white;\n",
       "                    --jp-widgets-label-color: white;\n",
       "                    --jp-ui-font-color1: white;\n",
       "                    --jp-layout-color2: #454545;\n",
       "                    background-color: #383838;\n",
       "                }\n",
       "\n",
       "                .geemap-dark .jupyter-button {\n",
       "                    --jp-layout-color3: #383838;\n",
       "                }\n",
       "\n",
       "                .geemap-colab {\n",
       "                    background-color: var(--colab-primary-surface-color, white);\n",
       "                }\n",
       "\n",
       "                .geemap-colab .jupyter-button {\n",
       "                    --jp-layout-color3: var(--colab-primary-surface-color, white);\n",
       "                }\n",
       "            </style>\n",
       "            "
      ],
      "text/plain": [
       "<IPython.core.display.HTML object>"
      ]
     },
     "metadata": {},
     "output_type": "display_data"
    }
   ],
   "source": [
    "# Amsterdam\n",
    "point = ee.Geometry.Point([4.82, 52.4])\n",
    "boundingBox = point.buffer(10000).bounds()"
   ]
  },
  {
   "cell_type": "markdown",
   "id": "fe4eea47",
   "metadata": {},
   "source": [
    "Collecting the Sentinel-2 data"
   ]
  },
  {
   "cell_type": "code",
   "execution_count": 88,
   "id": "342e9749-6958-4f3b-bfad-15c7c68b48e1",
   "metadata": {},
   "outputs": [
    {
     "data": {
      "text/html": [
       "\n",
       "            <style>\n",
       "                .geemap-dark {\n",
       "                    --jp-widgets-color: white;\n",
       "                    --jp-widgets-label-color: white;\n",
       "                    --jp-ui-font-color1: white;\n",
       "                    --jp-layout-color2: #454545;\n",
       "                    background-color: #383838;\n",
       "                }\n",
       "\n",
       "                .geemap-dark .jupyter-button {\n",
       "                    --jp-layout-color3: #383838;\n",
       "                }\n",
       "\n",
       "                .geemap-colab {\n",
       "                    background-color: var(--colab-primary-surface-color, white);\n",
       "                }\n",
       "\n",
       "                .geemap-colab .jupyter-button {\n",
       "                    --jp-layout-color3: var(--colab-primary-surface-color, white);\n",
       "                }\n",
       "            </style>\n",
       "            "
      ],
      "text/plain": [
       "<IPython.core.display.HTML object>"
      ]
     },
     "metadata": {},
     "output_type": "display_data"
    }
   ],
   "source": [
    "imageCollection = ee.ImageCollection(\"COPERNICUS/S2_SR_HARMONIZED\") \\\n",
    "    .filterBounds(boundingBox) \\\n",
    "    .filterDate('2024-05-01', '2024-07-31') \\\n",
    "    .filterMetadata('CLOUDY_PIXEL_PERCENTAGE', 'less_than', 10)"
   ]
  },
  {
   "cell_type": "markdown",
   "id": "98e38326",
   "metadata": {},
   "source": [
    "We can also print how many images are there in our collection"
   ]
  },
  {
   "cell_type": "code",
   "execution_count": 89,
   "id": "c2199650",
   "metadata": {},
   "outputs": [
    {
     "data": {
      "text/html": [
       "\n",
       "            <style>\n",
       "                .geemap-dark {\n",
       "                    --jp-widgets-color: white;\n",
       "                    --jp-widgets-label-color: white;\n",
       "                    --jp-ui-font-color1: white;\n",
       "                    --jp-layout-color2: #454545;\n",
       "                    background-color: #383838;\n",
       "                }\n",
       "\n",
       "                .geemap-dark .jupyter-button {\n",
       "                    --jp-layout-color3: #383838;\n",
       "                }\n",
       "\n",
       "                .geemap-colab {\n",
       "                    background-color: var(--colab-primary-surface-color, white);\n",
       "                }\n",
       "\n",
       "                .geemap-colab .jupyter-button {\n",
       "                    --jp-layout-color3: var(--colab-primary-surface-color, white);\n",
       "                }\n",
       "            </style>\n",
       "            "
      ],
      "text/plain": [
       "<IPython.core.display.HTML object>"
      ]
     },
     "metadata": {},
     "output_type": "display_data"
    },
    {
     "name": "stdout",
     "output_type": "stream",
     "text": [
      "Number of images in the collection:  5\n"
     ]
    }
   ],
   "source": [
    "listOfImages = imageCollection.aggregate_array('system:index').getInfo()\n",
    "print('Number of images in the collection: ', len(listOfImages))"
   ]
  },
  {
   "cell_type": "markdown",
   "id": "8bd1ed85",
   "metadata": {},
   "source": [
    "Now, we would compute the Median of all the five images present. This would return into an ee.image"
   ]
  },
  {
   "cell_type": "code",
   "execution_count": 90,
   "id": "465eff69",
   "metadata": {},
   "outputs": [
    {
     "data": {
      "text/html": [
       "\n",
       "            <style>\n",
       "                .geemap-dark {\n",
       "                    --jp-widgets-color: white;\n",
       "                    --jp-widgets-label-color: white;\n",
       "                    --jp-ui-font-color1: white;\n",
       "                    --jp-layout-color2: #454545;\n",
       "                    background-color: #383838;\n",
       "                }\n",
       "\n",
       "                .geemap-dark .jupyter-button {\n",
       "                    --jp-layout-color3: #383838;\n",
       "                }\n",
       "\n",
       "                .geemap-colab {\n",
       "                    background-color: var(--colab-primary-surface-color, white);\n",
       "                }\n",
       "\n",
       "                .geemap-colab .jupyter-button {\n",
       "                    --jp-layout-color3: var(--colab-primary-surface-color, white);\n",
       "                }\n",
       "            </style>\n",
       "            "
      ],
      "text/plain": [
       "<IPython.core.display.HTML object>"
      ]
     },
     "metadata": {},
     "output_type": "display_data"
    },
    {
     "data": {
      "text/plain": [
       "{'type': 'Image',\n",
       " 'bands': [{'id': 'B1',\n",
       "   'data_type': {'type': 'PixelType',\n",
       "    'precision': 'double',\n",
       "    'min': 0,\n",
       "    'max': 65535},\n",
       "   'dimensions': [1, 1],\n",
       "   'origin': [4, 52],\n",
       "   'crs': 'EPSG:4326',\n",
       "   'crs_transform': [1, 0, 0, 0, 1, 0]},\n",
       "  {'id': 'B2',\n",
       "   'data_type': {'type': 'PixelType',\n",
       "    'precision': 'double',\n",
       "    'min': 0,\n",
       "    'max': 65535},\n",
       "   'dimensions': [1, 1],\n",
       "   'origin': [4, 52],\n",
       "   'crs': 'EPSG:4326',\n",
       "   'crs_transform': [1, 0, 0, 0, 1, 0]},\n",
       "  {'id': 'B3',\n",
       "   'data_type': {'type': 'PixelType',\n",
       "    'precision': 'double',\n",
       "    'min': 0,\n",
       "    'max': 65535},\n",
       "   'dimensions': [1, 1],\n",
       "   'origin': [4, 52],\n",
       "   'crs': 'EPSG:4326',\n",
       "   'crs_transform': [1, 0, 0, 0, 1, 0]},\n",
       "  {'id': 'B4',\n",
       "   'data_type': {'type': 'PixelType',\n",
       "    'precision': 'double',\n",
       "    'min': 0,\n",
       "    'max': 65535},\n",
       "   'dimensions': [1, 1],\n",
       "   'origin': [4, 52],\n",
       "   'crs': 'EPSG:4326',\n",
       "   'crs_transform': [1, 0, 0, 0, 1, 0]},\n",
       "  {'id': 'B5',\n",
       "   'data_type': {'type': 'PixelType',\n",
       "    'precision': 'double',\n",
       "    'min': 0,\n",
       "    'max': 65535},\n",
       "   'dimensions': [1, 1],\n",
       "   'origin': [4, 52],\n",
       "   'crs': 'EPSG:4326',\n",
       "   'crs_transform': [1, 0, 0, 0, 1, 0]},\n",
       "  {'id': 'B6',\n",
       "   'data_type': {'type': 'PixelType',\n",
       "    'precision': 'double',\n",
       "    'min': 0,\n",
       "    'max': 65535},\n",
       "   'dimensions': [1, 1],\n",
       "   'origin': [4, 52],\n",
       "   'crs': 'EPSG:4326',\n",
       "   'crs_transform': [1, 0, 0, 0, 1, 0]},\n",
       "  {'id': 'B7',\n",
       "   'data_type': {'type': 'PixelType',\n",
       "    'precision': 'double',\n",
       "    'min': 0,\n",
       "    'max': 65535},\n",
       "   'dimensions': [1, 1],\n",
       "   'origin': [4, 52],\n",
       "   'crs': 'EPSG:4326',\n",
       "   'crs_transform': [1, 0, 0, 0, 1, 0]},\n",
       "  {'id': 'B8',\n",
       "   'data_type': {'type': 'PixelType',\n",
       "    'precision': 'double',\n",
       "    'min': 0,\n",
       "    'max': 65535},\n",
       "   'dimensions': [1, 1],\n",
       "   'origin': [4, 52],\n",
       "   'crs': 'EPSG:4326',\n",
       "   'crs_transform': [1, 0, 0, 0, 1, 0]},\n",
       "  {'id': 'B8A',\n",
       "   'data_type': {'type': 'PixelType',\n",
       "    'precision': 'double',\n",
       "    'min': 0,\n",
       "    'max': 65535},\n",
       "   'dimensions': [1, 1],\n",
       "   'origin': [4, 52],\n",
       "   'crs': 'EPSG:4326',\n",
       "   'crs_transform': [1, 0, 0, 0, 1, 0]},\n",
       "  {'id': 'B9',\n",
       "   'data_type': {'type': 'PixelType',\n",
       "    'precision': 'double',\n",
       "    'min': 0,\n",
       "    'max': 65535},\n",
       "   'dimensions': [1, 1],\n",
       "   'origin': [4, 52],\n",
       "   'crs': 'EPSG:4326',\n",
       "   'crs_transform': [1, 0, 0, 0, 1, 0]},\n",
       "  {'id': 'B11',\n",
       "   'data_type': {'type': 'PixelType',\n",
       "    'precision': 'double',\n",
       "    'min': 0,\n",
       "    'max': 65535},\n",
       "   'dimensions': [1, 1],\n",
       "   'origin': [4, 52],\n",
       "   'crs': 'EPSG:4326',\n",
       "   'crs_transform': [1, 0, 0, 0, 1, 0]},\n",
       "  {'id': 'B12',\n",
       "   'data_type': {'type': 'PixelType',\n",
       "    'precision': 'double',\n",
       "    'min': 0,\n",
       "    'max': 65535},\n",
       "   'dimensions': [1, 1],\n",
       "   'origin': [4, 52],\n",
       "   'crs': 'EPSG:4326',\n",
       "   'crs_transform': [1, 0, 0, 0, 1, 0]},\n",
       "  {'id': 'AOT',\n",
       "   'data_type': {'type': 'PixelType',\n",
       "    'precision': 'double',\n",
       "    'min': 0,\n",
       "    'max': 65535},\n",
       "   'dimensions': [1, 1],\n",
       "   'origin': [4, 52],\n",
       "   'crs': 'EPSG:4326',\n",
       "   'crs_transform': [1, 0, 0, 0, 1, 0]},\n",
       "  {'id': 'WVP',\n",
       "   'data_type': {'type': 'PixelType',\n",
       "    'precision': 'double',\n",
       "    'min': 0,\n",
       "    'max': 65535},\n",
       "   'dimensions': [1, 1],\n",
       "   'origin': [4, 52],\n",
       "   'crs': 'EPSG:4326',\n",
       "   'crs_transform': [1, 0, 0, 0, 1, 0]},\n",
       "  {'id': 'SCL',\n",
       "   'data_type': {'type': 'PixelType',\n",
       "    'precision': 'double',\n",
       "    'min': 0,\n",
       "    'max': 255},\n",
       "   'dimensions': [1, 1],\n",
       "   'origin': [4, 52],\n",
       "   'crs': 'EPSG:4326',\n",
       "   'crs_transform': [1, 0, 0, 0, 1, 0]},\n",
       "  {'id': 'TCI_R',\n",
       "   'data_type': {'type': 'PixelType',\n",
       "    'precision': 'double',\n",
       "    'min': 0,\n",
       "    'max': 255},\n",
       "   'dimensions': [1, 1],\n",
       "   'origin': [4, 52],\n",
       "   'crs': 'EPSG:4326',\n",
       "   'crs_transform': [1, 0, 0, 0, 1, 0]},\n",
       "  {'id': 'TCI_G',\n",
       "   'data_type': {'type': 'PixelType',\n",
       "    'precision': 'double',\n",
       "    'min': 0,\n",
       "    'max': 255},\n",
       "   'dimensions': [1, 1],\n",
       "   'origin': [4, 52],\n",
       "   'crs': 'EPSG:4326',\n",
       "   'crs_transform': [1, 0, 0, 0, 1, 0]},\n",
       "  {'id': 'TCI_B',\n",
       "   'data_type': {'type': 'PixelType',\n",
       "    'precision': 'double',\n",
       "    'min': 0,\n",
       "    'max': 255},\n",
       "   'dimensions': [1, 1],\n",
       "   'origin': [4, 52],\n",
       "   'crs': 'EPSG:4326',\n",
       "   'crs_transform': [1, 0, 0, 0, 1, 0]},\n",
       "  {'id': 'MSK_CLDPRB',\n",
       "   'data_type': {'type': 'PixelType',\n",
       "    'precision': 'double',\n",
       "    'min': 0,\n",
       "    'max': 255},\n",
       "   'dimensions': [1, 1],\n",
       "   'origin': [4, 52],\n",
       "   'crs': 'EPSG:4326',\n",
       "   'crs_transform': [1, 0, 0, 0, 1, 0]},\n",
       "  {'id': 'MSK_SNWPRB',\n",
       "   'data_type': {'type': 'PixelType',\n",
       "    'precision': 'double',\n",
       "    'min': 0,\n",
       "    'max': 255},\n",
       "   'dimensions': [1, 1],\n",
       "   'origin': [4, 52],\n",
       "   'crs': 'EPSG:4326',\n",
       "   'crs_transform': [1, 0, 0, 0, 1, 0]},\n",
       "  {'id': 'QA10',\n",
       "   'data_type': {'type': 'PixelType',\n",
       "    'precision': 'double',\n",
       "    'min': 0,\n",
       "    'max': 65535},\n",
       "   'dimensions': [1, 1],\n",
       "   'origin': [4, 52],\n",
       "   'crs': 'EPSG:4326',\n",
       "   'crs_transform': [1, 0, 0, 0, 1, 0]},\n",
       "  {'id': 'QA20',\n",
       "   'data_type': {'type': 'PixelType',\n",
       "    'precision': 'double',\n",
       "    'min': 0,\n",
       "    'max': 4294967295},\n",
       "   'dimensions': [1, 1],\n",
       "   'origin': [4, 52],\n",
       "   'crs': 'EPSG:4326',\n",
       "   'crs_transform': [1, 0, 0, 0, 1, 0]},\n",
       "  {'id': 'QA60',\n",
       "   'data_type': {'type': 'PixelType',\n",
       "    'precision': 'double',\n",
       "    'min': 0,\n",
       "    'max': 65535},\n",
       "   'dimensions': [1, 1],\n",
       "   'origin': [4, 52],\n",
       "   'crs': 'EPSG:4326',\n",
       "   'crs_transform': [1, 0, 0, 0, 1, 0]},\n",
       "  {'id': 'MSK_CLASSI_OPAQUE',\n",
       "   'data_type': {'type': 'PixelType',\n",
       "    'precision': 'double',\n",
       "    'min': 0,\n",
       "    'max': 255},\n",
       "   'dimensions': [1, 1],\n",
       "   'origin': [4, 52],\n",
       "   'crs': 'EPSG:4326',\n",
       "   'crs_transform': [1, 0, 0, 0, 1, 0]},\n",
       "  {'id': 'MSK_CLASSI_CIRRUS',\n",
       "   'data_type': {'type': 'PixelType',\n",
       "    'precision': 'double',\n",
       "    'min': 0,\n",
       "    'max': 255},\n",
       "   'dimensions': [1, 1],\n",
       "   'origin': [4, 52],\n",
       "   'crs': 'EPSG:4326',\n",
       "   'crs_transform': [1, 0, 0, 0, 1, 0]},\n",
       "  {'id': 'MSK_CLASSI_SNOW_ICE',\n",
       "   'data_type': {'type': 'PixelType',\n",
       "    'precision': 'double',\n",
       "    'min': 0,\n",
       "    'max': 255},\n",
       "   'dimensions': [1, 1],\n",
       "   'origin': [4, 52],\n",
       "   'crs': 'EPSG:4326',\n",
       "   'crs_transform': [1, 0, 0, 0, 1, 0]}],\n",
       " 'properties': {'system:footprint': {'geodesic': False,\n",
       "   'type': 'Polygon',\n",
       "   'coordinates': [[[4.673751382050675, 52.31004585207628],\n",
       "     [4.966780833871117, 52.31004585207628],\n",
       "     [4.966780833871117, 52.48998865951485],\n",
       "     [4.673751382050675, 52.48998865951485],\n",
       "     [4.673751382050675, 52.31004585207628]]]}}}"
      ]
     },
     "execution_count": 90,
     "metadata": {},
     "output_type": "execute_result"
    }
   ],
   "source": [
    "image= imageCollection.median()\n",
    "image_roi = image.clip(boundingBox)\n",
    "image_roi.getInfo()"
   ]
  },
  {
   "cell_type": "markdown",
   "id": "29e64cfb",
   "metadata": {},
   "source": [
    "Let's add the image and amsterdam bounds to the map to visualize them"
   ]
  },
  {
   "cell_type": "code",
   "execution_count": 135,
   "id": "a73241ff-79ba-4e3b-951c-7a1d84cb73ca",
   "metadata": {},
   "outputs": [
    {
     "data": {
      "text/html": [
       "\n",
       "            <style>\n",
       "                .geemap-dark {\n",
       "                    --jp-widgets-color: white;\n",
       "                    --jp-widgets-label-color: white;\n",
       "                    --jp-ui-font-color1: white;\n",
       "                    --jp-layout-color2: #454545;\n",
       "                    background-color: #383838;\n",
       "                }\n",
       "\n",
       "                .geemap-dark .jupyter-button {\n",
       "                    --jp-layout-color3: #383838;\n",
       "                }\n",
       "\n",
       "                .geemap-colab {\n",
       "                    background-color: var(--colab-primary-surface-color, white);\n",
       "                }\n",
       "\n",
       "                .geemap-colab .jupyter-button {\n",
       "                    --jp-layout-color3: var(--colab-primary-surface-color, white);\n",
       "                }\n",
       "            </style>\n",
       "            "
      ],
      "text/plain": [
       "<IPython.core.display.HTML object>"
      ]
     },
     "metadata": {},
     "output_type": "display_data"
    },
    {
     "data": {
      "application/vnd.jupyter.widget-view+json": {
       "model_id": "3693302aa74649508bdf1d9bf174ac1e",
       "version_major": 2,
       "version_minor": 0
      },
      "text/plain": [
       "Map(center=[52.39998628995313, 4.8202661079618], controls=(WidgetControl(options=['position', 'transparent_bg'…"
      ]
     },
     "execution_count": 135,
     "metadata": {},
     "output_type": "execute_result"
    }
   ],
   "source": [
    "Map = geemap.Map()\n",
    "\n",
    "vis_params = {'bands': ['B4', 'B3', 'B2'],\n",
    "              'gamma': 1.9600000000000004, \n",
    "              'min': 0.0, 'max': 6235.8}\n",
    "\n",
    "Map.centerObject(boundingBox, 10)\n",
    "Map.addLayer(boundingBox, {}, \"Region of Interest\")\n",
    "Map.addLayer(image_roi, vis_params, \"Image\")\n",
    "Map"
   ]
  },
  {
   "cell_type": "markdown",
   "id": "513918e5",
   "metadata": {},
   "source": [
    "## Combining Separate Landcover Classes into a Single Feature Collection\n",
    "\n",
    "In this process, we collected data for different landcover classes, such as `greenspace`, `builtup`, `agriculture`, `water`, and `barren`. Initially, each class was collected into a separate `FeatureCollection` using the `Map.user_info` method in Google Earth Engine, which allowed us to filter and isolate specific classes into their individual `FeatureCollection` objects.The samples for each class was collected using the GUI of Map and then those samples were saved into the respective class using the user_rois method. This step was repeated for all the classes.\n",
    "\n",
    "Once each class had its own `FeatureCollection`, we combined them into a single `FeatureCollection` for ease of use, analysis, or export. Combining these collections into one allowed us to unify all landcover data under a single `FeatureCollection`, which simplifies further operations.\n"
   ]
  },
  {
   "cell_type": "code",
   "execution_count": null,
   "id": "ce394e0d",
   "metadata": {},
   "outputs": [],
   "source": [
    "Map.user_rois.getInfo()"
   ]
  },
  {
   "cell_type": "code",
   "execution_count": null,
   "id": "8e0282d7-6afe-4d62-a633-ccdc70775335",
   "metadata": {},
   "outputs": [
    {
     "data": {
      "text/html": [
       "\n",
       "            <style>\n",
       "                .geemap-dark {\n",
       "                    --jp-widgets-color: white;\n",
       "                    --jp-widgets-label-color: white;\n",
       "                    --jp-ui-font-color1: white;\n",
       "                    --jp-layout-color2: #454545;\n",
       "                    background-color: #383838;\n",
       "                }\n",
       "\n",
       "                .geemap-dark .jupyter-button {\n",
       "                    --jp-layout-color3: #383838;\n",
       "                }\n",
       "\n",
       "                .geemap-colab {\n",
       "                    background-color: var(--colab-primary-surface-color, white);\n",
       "                }\n",
       "\n",
       "                .geemap-colab .jupyter-button {\n",
       "                    --jp-layout-color3: var(--colab-primary-surface-color, white);\n",
       "                }\n",
       "            </style>\n",
       "            "
      ],
      "text/plain": [
       "<IPython.core.display.HTML object>"
      ]
     },
     "metadata": {},
     "output_type": "display_data"
    }
   ],
   "source": [
    "# greenspace=Map.user_rois\n",
    "# builtup=Map.user_rois\n",
    "# agriculure=Map.user_rois\n",
    "# water=Map.user_rois\n",
    "barren=Map.user_rois"
   ]
  },
  {
   "cell_type": "markdown",
   "id": "c0a6d785",
   "metadata": {},
   "source": [
    "### Code Explanation\n",
    "In the code, we stored each separate class’s `FeatureCollection` in a list called `list_fc`:\n",
    "\n",
    "```python\n",
    "# List of feature collections\n",
    "list_fc = [greenspace, builtup, agriculture, water, barren]"
   ]
  },
  {
   "cell_type": "code",
   "execution_count": 147,
   "id": "55bd5b5e",
   "metadata": {},
   "outputs": [
    {
     "data": {
      "text/html": [
       "\n",
       "            <style>\n",
       "                .geemap-dark {\n",
       "                    --jp-widgets-color: white;\n",
       "                    --jp-widgets-label-color: white;\n",
       "                    --jp-ui-font-color1: white;\n",
       "                    --jp-layout-color2: #454545;\n",
       "                    background-color: #383838;\n",
       "                }\n",
       "\n",
       "                .geemap-dark .jupyter-button {\n",
       "                    --jp-layout-color3: #383838;\n",
       "                }\n",
       "\n",
       "                .geemap-colab {\n",
       "                    background-color: var(--colab-primary-surface-color, white);\n",
       "                }\n",
       "\n",
       "                .geemap-colab .jupyter-button {\n",
       "                    --jp-layout-color3: var(--colab-primary-surface-color, white);\n",
       "                }\n",
       "            </style>\n",
       "            "
      ],
      "text/plain": [
       "<IPython.core.display.HTML object>"
      ]
     },
     "metadata": {},
     "output_type": "display_data"
    }
   ],
   "source": [
    "list_fc= [greenspace, builtup, agriculure, water, barren]"
   ]
  },
  {
   "cell_type": "markdown",
   "id": "142b2dd9",
   "metadata": {},
   "source": [
    "To combine them, we used the first FeatureCollection in list_fc as the starting point (combined_fc = list_fc[0]). Then, we iteratively merged each of the remaining FeatureCollection objects in list_fc with this initial collection. This approach was chosen because Google Earth Engine does not directly support indexing within the FeatureCollection API, so there is no straightforward way to access and merge subsequent collections without first designating a base collection to start with.\n",
    "\n",
    "This method provides a simple, efficient way to combine all classes without needing to initialize an empty FeatureCollection, which can sometimes introduce unnecessary complexity.After running this code, combined_fc will contain all features from the individual class collections in list_fc, unified under a single FeatureCollection."
   ]
  },
  {
   "cell_type": "code",
   "execution_count": null,
   "id": "eeff8962",
   "metadata": {},
   "outputs": [
    {
     "data": {
      "text/html": [
       "\n",
       "            <style>\n",
       "                .geemap-dark {\n",
       "                    --jp-widgets-color: white;\n",
       "                    --jp-widgets-label-color: white;\n",
       "                    --jp-ui-font-color1: white;\n",
       "                    --jp-layout-color2: #454545;\n",
       "                    background-color: #383838;\n",
       "                }\n",
       "\n",
       "                .geemap-dark .jupyter-button {\n",
       "                    --jp-layout-color3: #383838;\n",
       "                }\n",
       "\n",
       "                .geemap-colab {\n",
       "                    background-color: var(--colab-primary-surface-color, white);\n",
       "                }\n",
       "\n",
       "                .geemap-colab .jupyter-button {\n",
       "                    --jp-layout-color3: var(--colab-primary-surface-color, white);\n",
       "                }\n",
       "            </style>\n",
       "            "
      ],
      "text/plain": [
       "<IPython.core.display.HTML object>"
      ]
     },
     "metadata": {},
     "output_type": "display_data"
    }
   ],
   "source": [
    "landcover_fc =list_fc[0]\n",
    "for fc in list_fc[1:]:\n",
    "    landcover_fc = landcover_fc.merge(fc)"
   ]
  },
  {
   "cell_type": "code",
   "execution_count": null,
   "id": "d1f6f755",
   "metadata": {},
   "outputs": [
    {
     "data": {
      "text/html": [
       "\n",
       "            <style>\n",
       "                .geemap-dark {\n",
       "                    --jp-widgets-color: white;\n",
       "                    --jp-widgets-label-color: white;\n",
       "                    --jp-ui-font-color1: white;\n",
       "                    --jp-layout-color2: #454545;\n",
       "                    background-color: #383838;\n",
       "                }\n",
       "\n",
       "                .geemap-dark .jupyter-button {\n",
       "                    --jp-layout-color3: #383838;\n",
       "                }\n",
       "\n",
       "                .geemap-colab {\n",
       "                    background-color: var(--colab-primary-surface-color, white);\n",
       "                }\n",
       "\n",
       "                .geemap-colab .jupyter-button {\n",
       "                    --jp-layout-color3: var(--colab-primary-surface-color, white);\n",
       "                }\n",
       "            </style>\n",
       "            "
      ],
      "text/plain": [
       "<IPython.core.display.HTML object>"
      ]
     },
     "metadata": {},
     "output_type": "display_data"
    }
   ],
   "source": [
    "Map.centerObject(boundingBox, 10)\n",
    "Map.addLayer(landcover_fc, {}, \"landcover_fc\")"
   ]
  },
  {
   "cell_type": "markdown",
   "id": "840802d8",
   "metadata": {},
   "source": [
    "Each feature collection (`fc`) contains two key properties:\n",
    "\n",
    "- **`landcover`**: An integer value that uniquely represents each landcover class. This integer acts as an identifier for different types of landcover, making it easy to distinguish between classes during analysis.\n",
    "\n",
    "- **`class`**: A string property that holds the name of each landcover class, providing a human-readable label. This makes the data more interpretable, as it links each `landcover` integer ID to a specific type of landcover, such as \"greenspace\" or \"builtup.\"\n",
    "\n",
    "To better understand how this data is structured, let’s convert the combined feature collection into a `GeoDataFrame` (using the `ee_to_gdf` function) and examine its contents:\n"
   ]
  },
  {
   "cell_type": "code",
   "execution_count": 151,
   "id": "002101d8",
   "metadata": {},
   "outputs": [
    {
     "data": {
      "text/html": [
       "\n",
       "            <style>\n",
       "                .geemap-dark {\n",
       "                    --jp-widgets-color: white;\n",
       "                    --jp-widgets-label-color: white;\n",
       "                    --jp-ui-font-color1: white;\n",
       "                    --jp-layout-color2: #454545;\n",
       "                    background-color: #383838;\n",
       "                }\n",
       "\n",
       "                .geemap-dark .jupyter-button {\n",
       "                    --jp-layout-color3: #383838;\n",
       "                }\n",
       "\n",
       "                .geemap-colab {\n",
       "                    background-color: var(--colab-primary-surface-color, white);\n",
       "                }\n",
       "\n",
       "                .geemap-colab .jupyter-button {\n",
       "                    --jp-layout-color3: var(--colab-primary-surface-color, white);\n",
       "                }\n",
       "            </style>\n",
       "            "
      ],
      "text/plain": [
       "<IPython.core.display.HTML object>"
      ]
     },
     "metadata": {},
     "output_type": "display_data"
    },
    {
     "data": {
      "text/html": [
       "<div>\n",
       "<style scoped>\n",
       "    .dataframe tbody tr th:only-of-type {\n",
       "        vertical-align: middle;\n",
       "    }\n",
       "\n",
       "    .dataframe tbody tr th {\n",
       "        vertical-align: top;\n",
       "    }\n",
       "\n",
       "    .dataframe thead th {\n",
       "        text-align: right;\n",
       "    }\n",
       "</style>\n",
       "<table border=\"1\" class=\"dataframe\">\n",
       "  <thead>\n",
       "    <tr style=\"text-align: right;\">\n",
       "      <th></th>\n",
       "      <th>geometry</th>\n",
       "      <th>class</th>\n",
       "      <th>color</th>\n",
       "      <th>landcover</th>\n",
       "    </tr>\n",
       "  </thead>\n",
       "  <tbody>\n",
       "    <tr>\n",
       "      <th>0</th>\n",
       "      <td>POLYGON ((4.80040 52.34784, 4.80040 52.34808, ...</td>\n",
       "      <td>green spaces</td>\n",
       "      <td>#33ff4b</td>\n",
       "      <td>2</td>\n",
       "    </tr>\n",
       "    <tr>\n",
       "      <th>1</th>\n",
       "      <td>POLYGON ((4.79962 52.34809, 4.79962 52.34823, ...</td>\n",
       "      <td>green spaces</td>\n",
       "      <td>#33ff4b</td>\n",
       "      <td>2</td>\n",
       "    </tr>\n",
       "    <tr>\n",
       "      <th>2</th>\n",
       "      <td>POLYGON ((4.79874 52.34852, 4.79874 52.34865, ...</td>\n",
       "      <td>green spaces</td>\n",
       "      <td>#33ff4b</td>\n",
       "      <td>2</td>\n",
       "    </tr>\n",
       "    <tr>\n",
       "      <th>3</th>\n",
       "      <td>POLYGON ((4.80292 52.34922, 4.80292 52.34925, ...</td>\n",
       "      <td>green spaces</td>\n",
       "      <td>#33ff4b</td>\n",
       "      <td>2</td>\n",
       "    </tr>\n",
       "    <tr>\n",
       "      <th>4</th>\n",
       "      <td>POLYGON ((4.80627 52.34998, 4.80627 52.35022, ...</td>\n",
       "      <td>green spaces</td>\n",
       "      <td>#33ff4b</td>\n",
       "      <td>2</td>\n",
       "    </tr>\n",
       "    <tr>\n",
       "      <th>...</th>\n",
       "      <td>...</td>\n",
       "      <td>...</td>\n",
       "      <td>...</td>\n",
       "      <td>...</td>\n",
       "    </tr>\n",
       "    <tr>\n",
       "      <th>137</th>\n",
       "      <td>POLYGON ((4.80619 52.45755, 4.80619 52.45773, ...</td>\n",
       "      <td>barren</td>\n",
       "      <td>#7e502a</td>\n",
       "      <td>5</td>\n",
       "    </tr>\n",
       "    <tr>\n",
       "      <th>138</th>\n",
       "      <td>POLYGON ((4.80569 52.46558, 4.80569 52.46572, ...</td>\n",
       "      <td>barren</td>\n",
       "      <td>#7e502a</td>\n",
       "      <td>5</td>\n",
       "    </tr>\n",
       "    <tr>\n",
       "      <th>139</th>\n",
       "      <td>POLYGON ((4.83521 52.45918, 4.83521 52.45921, ...</td>\n",
       "      <td>barren</td>\n",
       "      <td>#7e502a</td>\n",
       "      <td>5</td>\n",
       "    </tr>\n",
       "    <tr>\n",
       "      <th>140</th>\n",
       "      <td>POLYGON ((4.83552 52.45905, 4.83566 52.45914, ...</td>\n",
       "      <td>barren</td>\n",
       "      <td>#7e502a</td>\n",
       "      <td>5</td>\n",
       "    </tr>\n",
       "    <tr>\n",
       "      <th>141</th>\n",
       "      <td>POLYGON ((4.84951 52.44810, 4.84993 52.44817, ...</td>\n",
       "      <td>barren</td>\n",
       "      <td>#7e502a</td>\n",
       "      <td>5</td>\n",
       "    </tr>\n",
       "  </tbody>\n",
       "</table>\n",
       "<p>142 rows × 4 columns</p>\n",
       "</div>"
      ],
      "text/plain": [
       "                                              geometry         class    color  \\\n",
       "0    POLYGON ((4.80040 52.34784, 4.80040 52.34808, ...  green spaces  #33ff4b   \n",
       "1    POLYGON ((4.79962 52.34809, 4.79962 52.34823, ...  green spaces  #33ff4b   \n",
       "2    POLYGON ((4.79874 52.34852, 4.79874 52.34865, ...  green spaces  #33ff4b   \n",
       "3    POLYGON ((4.80292 52.34922, 4.80292 52.34925, ...  green spaces  #33ff4b   \n",
       "4    POLYGON ((4.80627 52.34998, 4.80627 52.35022, ...  green spaces  #33ff4b   \n",
       "..                                                 ...           ...      ...   \n",
       "137  POLYGON ((4.80619 52.45755, 4.80619 52.45773, ...        barren  #7e502a   \n",
       "138  POLYGON ((4.80569 52.46558, 4.80569 52.46572, ...        barren  #7e502a   \n",
       "139  POLYGON ((4.83521 52.45918, 4.83521 52.45921, ...        barren  #7e502a   \n",
       "140  POLYGON ((4.83552 52.45905, 4.83566 52.45914, ...        barren  #7e502a   \n",
       "141  POLYGON ((4.84951 52.44810, 4.84993 52.44817, ...        barren  #7e502a   \n",
       "\n",
       "     landcover  \n",
       "0            2  \n",
       "1            2  \n",
       "2            2  \n",
       "3            2  \n",
       "4            2  \n",
       "..         ...  \n",
       "137          5  \n",
       "138          5  \n",
       "139          5  \n",
       "140          5  \n",
       "141          5  \n",
       "\n",
       "[142 rows x 4 columns]"
      ]
     },
     "execution_count": 151,
     "metadata": {},
     "output_type": "execute_result"
    }
   ],
   "source": [
    "landcover_gdf=geemap.ee_to_gdf(landcover_fc)\n",
    "landcover_gdf"
   ]
  },
  {
   "cell_type": "markdown",
   "id": "685023c7",
   "metadata": {},
   "source": [
    "After converting our combined feature collection to a `GeoDataFrame`, we can save it as a GeoJSON file in our directory. This creates a local copy of the data, which is helpful for reproducing the analysis.\n",
    "\n",
    "Below, we’ll export the `GeoDataFrame` as a GeoJSON file and then demonstrate how to reload it later as a `GeoDataFrame` named `landcover_fc` if we want to work with the data again.\n"
   ]
  },
  {
   "cell_type": "code",
   "execution_count": 152,
   "id": "4617f72d",
   "metadata": {},
   "outputs": [
    {
     "data": {
      "text/html": [
       "\n",
       "            <style>\n",
       "                .geemap-dark {\n",
       "                    --jp-widgets-color: white;\n",
       "                    --jp-widgets-label-color: white;\n",
       "                    --jp-ui-font-color1: white;\n",
       "                    --jp-layout-color2: #454545;\n",
       "                    background-color: #383838;\n",
       "                }\n",
       "\n",
       "                .geemap-dark .jupyter-button {\n",
       "                    --jp-layout-color3: #383838;\n",
       "                }\n",
       "\n",
       "                .geemap-colab {\n",
       "                    background-color: var(--colab-primary-surface-color, white);\n",
       "                }\n",
       "\n",
       "                .geemap-colab .jupyter-button {\n",
       "                    --jp-layout-color3: var(--colab-primary-surface-color, white);\n",
       "                }\n",
       "            </style>\n",
       "            "
      ],
      "text/plain": [
       "<IPython.core.display.HTML object>"
      ]
     },
     "metadata": {},
     "output_type": "display_data"
    },
    {
     "name": "stdout",
     "output_type": "stream",
     "text": [
      "GeoJSON file saved as landcover_data.geojson\n"
     ]
    }
   ],
   "source": [
    "import geopandas as gpd\n",
    "output_path = \"landcover_data.geojson\"\n",
    "landcover_gdf.to_file(output_path, driver=\"GeoJSON\")\n",
    "print(f\"GeoJSON file saved as {output_path}\")\n",
    "\n",
    "# # Load the GeoJSON file back into a GeoDataFrame if needed\n",
    "# landcover_fc = gpd.read_file(output_path)\n",
    "\n",
    "# # Display the first few rows to verify the data\n",
    "# landcover_fc.head()\n"
   ]
  },
  {
   "cell_type": "markdown",
   "id": "bdf234e5",
   "metadata": {},
   "source": [
    "In our analysis, we are using the following Sentinel-2 bands:\n",
    "\n",
    "- **B2**: Blue\n",
    "- **B3**: Green\n",
    "- **B4**: Red\n",
    "- **B5**: Red Edge 1\n",
    "- **B6**: Red Edge 2\n",
    "- **B7**: Red Edge 3\n",
    "- **B8**: Near Infrared (NIR)\n",
    "- **B8A**: Narrow Near Infrared\n",
    "- **B11**: Short Wave Infrared (SWIR) 1\n",
    "- **B12**: Short Wave Infrared (SWIR) 2\n",
    "\n",
    "These bands are selected for their usefulness in various remote sensing applications, including vegetation analysis, land cover classification, and water body monitoring.\n"
   ]
  },
  {
   "cell_type": "code",
   "execution_count": 176,
   "id": "5da8e068",
   "metadata": {},
   "outputs": [
    {
     "data": {
      "text/html": [
       "\n",
       "            <style>\n",
       "                .geemap-dark {\n",
       "                    --jp-widgets-color: white;\n",
       "                    --jp-widgets-label-color: white;\n",
       "                    --jp-ui-font-color1: white;\n",
       "                    --jp-layout-color2: #454545;\n",
       "                    background-color: #383838;\n",
       "                }\n",
       "\n",
       "                .geemap-dark .jupyter-button {\n",
       "                    --jp-layout-color3: #383838;\n",
       "                }\n",
       "\n",
       "                .geemap-colab {\n",
       "                    background-color: var(--colab-primary-surface-color, white);\n",
       "                }\n",
       "\n",
       "                .geemap-colab .jupyter-button {\n",
       "                    --jp-layout-color3: var(--colab-primary-surface-color, white);\n",
       "                }\n",
       "            </style>\n",
       "            "
      ],
      "text/plain": [
       "<IPython.core.display.HTML object>"
      ]
     },
     "metadata": {},
     "output_type": "display_data"
    }
   ],
   "source": [
    "selected_bands = [\n",
    "    \"B2\",  # Blue\n",
    "    \"B3\",  # Green\n",
    "    \"B4\",  # Red\n",
    "    \"B5\",  # Red Edge 1\n",
    "    \"B6\",  # Red Edge 2\n",
    "    \"B7\",  # Red Edge 3\n",
    "    \"B8\",  # Near Infrared (NIR)\n",
    "    \"B8A\", # Narrow Near Infrared\n",
    "    \"B11\", # Short Wave Infrared (SWIR) 1\n",
    "    \"B12\"  # Short Wave Infrared (SWIR) 2\n",
    "]"
   ]
  },
  {
   "cell_type": "markdown",
   "id": "f03c628a",
   "metadata": {},
   "source": [
    "In this step, we extract pixel values from the imagery for all pixels located within each polygon in the training `FeatureCollection`. This process allows us to overlay the polygons on the satellite imagery to obtain training and test data for our analysis.\n"
   ]
  },
  {
   "cell_type": "code",
   "execution_count": null,
   "id": "83769525-442d-46dc-b112-dc48de066f53",
   "metadata": {},
   "outputs": [
    {
     "data": {
      "text/html": [
       "\n",
       "            <style>\n",
       "                .geemap-dark {\n",
       "                    --jp-widgets-color: white;\n",
       "                    --jp-widgets-label-color: white;\n",
       "                    --jp-ui-font-color1: white;\n",
       "                    --jp-layout-color2: #454545;\n",
       "                    background-color: #383838;\n",
       "                }\n",
       "\n",
       "                .geemap-dark .jupyter-button {\n",
       "                    --jp-layout-color3: #383838;\n",
       "                }\n",
       "\n",
       "                .geemap-colab {\n",
       "                    background-color: var(--colab-primary-surface-color, white);\n",
       "                }\n",
       "\n",
       "                .geemap-colab .jupyter-button {\n",
       "                    --jp-layout-color3: var(--colab-primary-surface-color, white);\n",
       "                }\n",
       "            </style>\n",
       "            "
      ],
      "text/plain": [
       "<IPython.core.display.HTML object>"
      ]
     },
     "metadata": {},
     "output_type": "display_data"
    },
    {
     "name": "stdout",
     "output_type": "stream",
     "text": [
      "39244\n"
     ]
    }
   ],
   "source": [
    "samples = image_roi.select(selected_bands).sampleRegions(**{\n",
    "    'collection': landcover_fc,\n",
    "    'properties': ['landcover'],\n",
    "    'scale': 10\n",
    "})\n",
    "print(samples.size().getInfo())"
   ]
  },
  {
   "cell_type": "markdown",
   "id": "bf0d535d",
   "metadata": {},
   "source": [
    "## Train-Test Split\n",
    "\n",
    "To evaluate the performance of our model, we need to divide our dataset into training and test samples. We will use a simple random split method where approximately 70% of the samples will be used for training and the remaining 30% for testing.\n",
    "\n",
    "### Code Explanation\n",
    "In the code below, we perform the following steps:\n",
    "\n",
    "1. **Set the Split Ratio**: We define a variable `split` to represent the proportion of data to use for training (70%).\n",
    "2. **Generate Random Values**: We add a random column to the `samples` `FeatureCollection` to facilitate random sampling.\n",
    "3. **Filter for Training Samples**: We filter the `samples` to create a `training` set, containing features where the random value is less than the split threshold.\n",
    "4. **Filter for Test Samples**: We create a `test` set by filtering features where the random value is greater than or equal to the split threshold.\n",
    "5. **Output the Size of Each Set**: Finally, we print the number of training and test samples.\n",
    "\n"
   ]
  },
  {
   "cell_type": "code",
   "execution_count": null,
   "id": "d489afe0",
   "metadata": {},
   "outputs": [
    {
     "data": {
      "text/html": [
       "\n",
       "            <style>\n",
       "                .geemap-dark {\n",
       "                    --jp-widgets-color: white;\n",
       "                    --jp-widgets-label-color: white;\n",
       "                    --jp-ui-font-color1: white;\n",
       "                    --jp-layout-color2: #454545;\n",
       "                    background-color: #383838;\n",
       "                }\n",
       "\n",
       "                .geemap-dark .jupyter-button {\n",
       "                    --jp-layout-color3: #383838;\n",
       "                }\n",
       "\n",
       "                .geemap-colab {\n",
       "                    background-color: var(--colab-primary-surface-color, white);\n",
       "                }\n",
       "\n",
       "                .geemap-colab .jupyter-button {\n",
       "                    --jp-layout-color3: var(--colab-primary-surface-color, white);\n",
       "                }\n",
       "            </style>\n",
       "            "
      ],
      "text/plain": [
       "<IPython.core.display.HTML object>"
      ]
     },
     "metadata": {},
     "output_type": "display_data"
    },
    {
     "name": "stdout",
     "output_type": "stream",
     "text": [
      "Number of training samples: 27417\n",
      "Number of test samples: 11827\n"
     ]
    }
   ],
   "source": [
    "# Train-Test split\n",
    "split = 0.7\n",
    "\n",
    "samples = samples.randomColumn()\n",
    "training = samples.filter(ee.Filter.lt(\"random\", split))\n",
    "test = samples.filter(ee.Filter.gte(\"random\", split))\n",
    "print(\"Number of training samples:\",training.size().getInfo())\n",
    "print(\"Number of test samples:\",test.size().getInfo())"
   ]
  },
  {
   "cell_type": "markdown",
   "id": "c5f7ce5a",
   "metadata": {},
   "source": [
    "## Training the Classifier\n",
    "\n",
    "To classify our data, we will use the **Random Forest** algorithm. We instantiate the classifier with a specified number of trees and train it using our training samples. In this case, we are using just one parameter:\n",
    "\n",
    "- **`trees`**: The number of trees in the forest, set to 10.\n",
    "\n"
   ]
  },
  {
   "cell_type": "code",
   "execution_count": 192,
   "id": "a8f63ca5",
   "metadata": {},
   "outputs": [
    {
     "data": {
      "text/html": [
       "\n",
       "            <style>\n",
       "                .geemap-dark {\n",
       "                    --jp-widgets-color: white;\n",
       "                    --jp-widgets-label-color: white;\n",
       "                    --jp-ui-font-color1: white;\n",
       "                    --jp-layout-color2: #454545;\n",
       "                    background-color: #383838;\n",
       "                }\n",
       "\n",
       "                .geemap-dark .jupyter-button {\n",
       "                    --jp-layout-color3: #383838;\n",
       "                }\n",
       "\n",
       "                .geemap-colab {\n",
       "                    background-color: var(--colab-primary-surface-color, white);\n",
       "                }\n",
       "\n",
       "                .geemap-colab .jupyter-button {\n",
       "                    --jp-layout-color3: var(--colab-primary-surface-color, white);\n",
       "                }\n",
       "            </style>\n",
       "            "
      ],
      "text/plain": [
       "<IPython.core.display.HTML object>"
      ]
     },
     "metadata": {},
     "output_type": "display_data"
    }
   ],
   "source": [
    "trained_classifier = ee.Classifier.smileRandomForest(10).train(\n",
    "    features=training,\n",
    "    classProperty='landcover',  # Use the label\n",
    "    inputProperties=selected_bands,\n",
    ")"
   ]
  },
  {
   "cell_type": "markdown",
   "id": "58652a65",
   "metadata": {},
   "source": [
    "Now, we classify our whole image using the above trained classifier"
   ]
  },
  {
   "cell_type": "code",
   "execution_count": 193,
   "id": "fee359c3",
   "metadata": {},
   "outputs": [
    {
     "data": {
      "text/html": [
       "\n",
       "            <style>\n",
       "                .geemap-dark {\n",
       "                    --jp-widgets-color: white;\n",
       "                    --jp-widgets-label-color: white;\n",
       "                    --jp-ui-font-color1: white;\n",
       "                    --jp-layout-color2: #454545;\n",
       "                    background-color: #383838;\n",
       "                }\n",
       "\n",
       "                .geemap-dark .jupyter-button {\n",
       "                    --jp-layout-color3: #383838;\n",
       "                }\n",
       "\n",
       "                .geemap-colab {\n",
       "                    background-color: var(--colab-primary-surface-color, white);\n",
       "                }\n",
       "\n",
       "                .geemap-colab .jupyter-button {\n",
       "                    --jp-layout-color3: var(--colab-primary-surface-color, white);\n",
       "                }\n",
       "            </style>\n",
       "            "
      ],
      "text/plain": [
       "<IPython.core.display.HTML object>"
      ]
     },
     "metadata": {},
     "output_type": "display_data"
    }
   ],
   "source": [
    "result = image_roi.select(selected_bands).classify(trained_classifier)"
   ]
  },
  {
   "cell_type": "markdown",
   "id": "4b1ebfa7",
   "metadata": {},
   "source": [
    "Adding this layer into our map to visualize the results"
   ]
  },
  {
   "cell_type": "code",
   "execution_count": 194,
   "id": "57739148",
   "metadata": {},
   "outputs": [
    {
     "data": {
      "text/html": [
       "\n",
       "            <style>\n",
       "                .geemap-dark {\n",
       "                    --jp-widgets-color: white;\n",
       "                    --jp-widgets-label-color: white;\n",
       "                    --jp-ui-font-color1: white;\n",
       "                    --jp-layout-color2: #454545;\n",
       "                    background-color: #383838;\n",
       "                }\n",
       "\n",
       "                .geemap-dark .jupyter-button {\n",
       "                    --jp-layout-color3: #383838;\n",
       "                }\n",
       "\n",
       "                .geemap-colab {\n",
       "                    background-color: var(--colab-primary-surface-color, white);\n",
       "                }\n",
       "\n",
       "                .geemap-colab .jupyter-button {\n",
       "                    --jp-layout-color3: var(--colab-primary-surface-color, white);\n",
       "                }\n",
       "            </style>\n",
       "            "
      ],
      "text/plain": [
       "<IPython.core.display.HTML object>"
      ]
     },
     "metadata": {},
     "output_type": "display_data"
    },
    {
     "data": {
      "application/vnd.jupyter.widget-view+json": {
       "model_id": "3693302aa74649508bdf1d9bf174ac1e",
       "version_major": 2,
       "version_minor": 0
      },
      "text/plain": [
       "Map(bottom=688963.0, center=[52.42681482569163, 4.792785644531251], controls=(WidgetControl(options=['position…"
      ]
     },
     "execution_count": 194,
     "metadata": {},
     "output_type": "execute_result"
    }
   ],
   "source": [
    "Map.addLayer(result.randomVisualizer(), {}, \"classified\")\n",
    "Map"
   ]
  },
  {
   "cell_type": "markdown",
   "id": "60d8268b",
   "metadata": {},
   "source": [
    "## Classifying Test Samples and Generating a Confusion Matrix\n",
    "\n",
    "After training our classifier, we can use it to classify the test samples. The classification results are then evaluated using a **confusion matrix**, which helps us assess the model's performance.\n",
    "\n",
    "Here’s a brief overview of the steps involved:\n",
    "\n",
    "1. **Classify Test Samples**: The `test` dataset is classified using the trained classifier, resulting in predicted classes for each sample.\n",
    "\n",
    "2. **Generate Confusion Matrix**: We create a confusion matrix by comparing the actual landcover labels (`landcover`) with the predicted classifications (`classification`). This matrix provides insights into the accuracy of the model and highlights any misclassifications.\n",
    "\n",
    "3. **Display the Confusion Matrix**: Finally, we print the confusion matrix to the console for analysis.\n",
    "\n",
    "This process allows us to understand how well our model performs on unseen data, guiding further improvements if necessary.\n"
   ]
  },
  {
   "cell_type": "code",
   "execution_count": null,
   "id": "5b3807b2",
   "metadata": {},
   "outputs": [],
   "source": [
    "test_pred = test.classify(trained_classifier)\n",
    "cm_test = test_pred.errorMatrix(\"landcover\", \"classification\")\n",
    "print(cm_test.getInfo())"
   ]
  },
  {
   "cell_type": "markdown",
   "id": "26181993",
   "metadata": {},
   "source": [
    "We can also check the overall accuracy"
   ]
  },
  {
   "cell_type": "code",
   "execution_count": 203,
   "id": "0ede42ef",
   "metadata": {},
   "outputs": [
    {
     "data": {
      "text/html": [
       "\n",
       "            <style>\n",
       "                .geemap-dark {\n",
       "                    --jp-widgets-color: white;\n",
       "                    --jp-widgets-label-color: white;\n",
       "                    --jp-ui-font-color1: white;\n",
       "                    --jp-layout-color2: #454545;\n",
       "                    background-color: #383838;\n",
       "                }\n",
       "\n",
       "                .geemap-dark .jupyter-button {\n",
       "                    --jp-layout-color3: #383838;\n",
       "                }\n",
       "\n",
       "                .geemap-colab {\n",
       "                    background-color: var(--colab-primary-surface-color, white);\n",
       "                }\n",
       "\n",
       "                .geemap-colab .jupyter-button {\n",
       "                    --jp-layout-color3: var(--colab-primary-surface-color, white);\n",
       "                }\n",
       "            </style>\n",
       "            "
      ],
      "text/plain": [
       "<IPython.core.display.HTML object>"
      ]
     },
     "metadata": {},
     "output_type": "display_data"
    },
    {
     "name": "stdout",
     "output_type": "stream",
     "text": [
      "Model Accuracy: 99.44%\n"
     ]
    }
   ],
   "source": [
    "# Overall Accuracy\n",
    "accuracy=cm_test.accuracy().getInfo()\n",
    "print(f'Model Accuracy: {accuracy * 100:.2f}%')"
   ]
  },
  {
   "cell_type": "markdown",
   "id": "7805e43a",
   "metadata": {},
   "source": [
    "## Splitting Training Data and Fine-Tuning the Model\n",
    "\n",
    "To enhance our model's performance, we further split the original training dataset into **training** and **validation** sets. This allows us to fine-tune the model by evaluating its performance on unseen validation data.\n",
    "\n",
    "- **Training Set**: Contains samples used to train the model. We filter the `training` dataset using a random value less than the specified split threshold.\n",
    "  \n",
    "- **Validation Set**: Contains samples used to validate the model’s performance after training. We filter the `samples` to include features with a random value greater than or equal to the split threshold.\n",
    "\n",
    "Next, we define a range of hyperparameters for tuning the Random Forest model:\n",
    "\n",
    "- **Number of Trees (`n_trees`)**: The total number of decision trees in the forest, which influences the model's complexity and performance. We consider values of 5, 10, and 15.\n",
    "\n",
    "- **Variables per Split (`vars_per_split`)**: The number of features to consider when making a split in each decision tree. This helps to prevent overfitting by limiting the options at each split. We use values of 2 and 3.\n",
    "\n",
    "- **Minimum Leaf Population (`min_leaf`)**: The minimum number of samples required to be at a leaf node. This parameter controls tree growth and helps prevent overfitting. We test values of 1 and 5.\n",
    "\n",
    "- **Bag Fraction (`bag_frac`)**: The proportion of training data to use for building each tree. This parameter introduces randomness and diversity into the model. We evaluate fractions of 0.5 and 0.7.\n",
    "\n",
    "The following process iterates through combinations of these hyperparameters, trains the classifier, classifies the validation set, and computes accuracy. The results are collected for analysis.\n",
    "\n",
    "Finally, we print the tuning results, displaying the number of trees, variables per split, minimum leaf population, bag fraction, and the corresponding accuracy of the model for each combination of parameters.\n"
   ]
  },
  {
   "cell_type": "code",
   "execution_count": 204,
   "id": "4af1d5c3",
   "metadata": {},
   "outputs": [
    {
     "data": {
      "text/html": [
       "\n",
       "            <style>\n",
       "                .geemap-dark {\n",
       "                    --jp-widgets-color: white;\n",
       "                    --jp-widgets-label-color: white;\n",
       "                    --jp-ui-font-color1: white;\n",
       "                    --jp-layout-color2: #454545;\n",
       "                    background-color: #383838;\n",
       "                }\n",
       "\n",
       "                .geemap-dark .jupyter-button {\n",
       "                    --jp-layout-color3: #383838;\n",
       "                }\n",
       "\n",
       "                .geemap-colab {\n",
       "                    background-color: var(--colab-primary-surface-color, white);\n",
       "                }\n",
       "\n",
       "                .geemap-colab .jupyter-button {\n",
       "                    --jp-layout-color3: var(--colab-primary-surface-color, white);\n",
       "                }\n",
       "            </style>\n",
       "            "
      ],
      "text/plain": [
       "<IPython.core.display.HTML object>"
      ]
     },
     "metadata": {},
     "output_type": "display_data"
    }
   ],
   "source": [
    "training = training.filter(ee.Filter.lt(\"random\", split))\n",
    "validation = samples.filter(ee.Filter.gte(\"random\", split))"
   ]
  },
  {
   "cell_type": "code",
   "execution_count": null,
   "id": "fc5b0439",
   "metadata": {},
   "outputs": [
    {
     "data": {
      "text/html": [
       "\n",
       "            <style>\n",
       "                .geemap-dark {\n",
       "                    --jp-widgets-color: white;\n",
       "                    --jp-widgets-label-color: white;\n",
       "                    --jp-ui-font-color1: white;\n",
       "                    --jp-layout-color2: #454545;\n",
       "                    background-color: #383838;\n",
       "                }\n",
       "\n",
       "                .geemap-dark .jupyter-button {\n",
       "                    --jp-layout-color3: #383838;\n",
       "                }\n",
       "\n",
       "                .geemap-colab {\n",
       "                    background-color: var(--colab-primary-surface-color, white);\n",
       "                }\n",
       "\n",
       "                .geemap-colab .jupyter-button {\n",
       "                    --jp-layout-color3: var(--colab-primary-surface-color, white);\n",
       "                }\n",
       "            </style>\n",
       "            "
      ],
      "text/plain": [
       "<IPython.core.display.HTML object>"
      ]
     },
     "metadata": {},
     "output_type": "display_data"
    },
    {
     "name": "stdout",
     "output_type": "stream",
     "text": [
      "Num Trees: 5, Vars/Split: 2, Min Leaf: 1, Bag Fraction: 0.5, Accuracy: 99.06%\n",
      "Num Trees: 5, Vars/Split: 2, Min Leaf: 1, Bag Fraction: 0.7, Accuracy: 99.32%\n",
      "Num Trees: 5, Vars/Split: 2, Min Leaf: 5, Bag Fraction: 0.5, Accuracy: 98.36%\n",
      "Num Trees: 5, Vars/Split: 2, Min Leaf: 5, Bag Fraction: 0.7, Accuracy: 98.54%\n",
      "Num Trees: 5, Vars/Split: 3, Min Leaf: 1, Bag Fraction: 0.5, Accuracy: 99.13%\n",
      "Num Trees: 5, Vars/Split: 3, Min Leaf: 1, Bag Fraction: 0.7, Accuracy: 99.20%\n",
      "Num Trees: 5, Vars/Split: 3, Min Leaf: 5, Bag Fraction: 0.5, Accuracy: 98.39%\n",
      "Num Trees: 5, Vars/Split: 3, Min Leaf: 5, Bag Fraction: 0.7, Accuracy: 98.75%\n",
      "Num Trees: 10, Vars/Split: 2, Min Leaf: 1, Bag Fraction: 0.5, Accuracy: 99.25%\n",
      "Num Trees: 10, Vars/Split: 2, Min Leaf: 1, Bag Fraction: 0.7, Accuracy: 99.39%\n",
      "Num Trees: 10, Vars/Split: 2, Min Leaf: 5, Bag Fraction: 0.5, Accuracy: 98.51%\n",
      "Num Trees: 10, Vars/Split: 2, Min Leaf: 5, Bag Fraction: 0.7, Accuracy: 98.70%\n",
      "Num Trees: 10, Vars/Split: 3, Min Leaf: 1, Bag Fraction: 0.5, Accuracy: 99.39%\n",
      "Num Trees: 10, Vars/Split: 3, Min Leaf: 1, Bag Fraction: 0.7, Accuracy: 99.44%\n",
      "Num Trees: 10, Vars/Split: 3, Min Leaf: 5, Bag Fraction: 0.5, Accuracy: 98.58%\n",
      "Num Trees: 10, Vars/Split: 3, Min Leaf: 5, Bag Fraction: 0.7, Accuracy: 98.86%\n",
      "Num Trees: 15, Vars/Split: 2, Min Leaf: 1, Bag Fraction: 0.5, Accuracy: 99.32%\n",
      "Num Trees: 15, Vars/Split: 2, Min Leaf: 1, Bag Fraction: 0.7, Accuracy: 99.43%\n",
      "Num Trees: 15, Vars/Split: 2, Min Leaf: 5, Bag Fraction: 0.5, Accuracy: 98.52%\n",
      "Num Trees: 15, Vars/Split: 2, Min Leaf: 5, Bag Fraction: 0.7, Accuracy: 98.86%\n",
      "Num Trees: 15, Vars/Split: 3, Min Leaf: 1, Bag Fraction: 0.5, Accuracy: 99.46%\n",
      "Num Trees: 15, Vars/Split: 3, Min Leaf: 1, Bag Fraction: 0.7, Accuracy: 99.45%\n",
      "Num Trees: 15, Vars/Split: 3, Min Leaf: 5, Bag Fraction: 0.5, Accuracy: 98.60%\n",
      "Num Trees: 15, Vars/Split: 3, Min Leaf: 5, Bag Fraction: 0.7, Accuracy: 98.99%\n"
     ]
    }
   ],
   "source": [
    "number_of_trees_list = [5, 10, 15]\n",
    "variables_per_split_list = [2, 3]\n",
    "min_leaf_population_list = [1, 5]\n",
    "bag_fraction_list = [0.5, 0.7]\n",
    "results = []\n",
    "\n",
    "for n_trees in number_of_trees_list:\n",
    "    for vars_per_split in variables_per_split_list:\n",
    "        for min_leaf in min_leaf_population_list:\n",
    "            for bag_frac in bag_fraction_list:\n",
    "                trained_classifier = ee.Classifier.smileRandomForest(\n",
    "                    n_trees,\n",
    "                    vars_per_split,\n",
    "                    min_leaf,\n",
    "                    bag_frac,\n",
    "                    None,  # max_nodes (None means unlimited)\n",
    "                    42     # seed for reproducibility\n",
    "                ).train(\n",
    "                    features=training,\n",
    "                    classProperty='landcover',\n",
    "                    inputProperties=selected_bands,\n",
    "                )\n",
    "                testing_pred = validation.classify(trained_classifier)\n",
    "                error_matrix = testing_pred.errorMatrix('landcover', 'classification')\n",
    "                accuracy = error_matrix.accuracy().getInfo()\n",
    "                results.append({\n",
    "                    'num_trees': n_trees,\n",
    "                    'vars_per_split': vars_per_split,\n",
    "                    'min_leaf': min_leaf,\n",
    "                    'bag_fraction': bag_frac,\n",
    "                    'accuracy': accuracy\n",
    "                })\n",
    "\n",
    "for result in results:\n",
    "    print(f\"Num Trees: {result['num_trees']}, Vars/Split: {result['vars_per_split']}, Min Leaf: {result['min_leaf']}, Bag Fraction: {result['bag_fraction']}, Accuracy: {result['accuracy'] * 100:.2f}%\")\n"
   ]
  },
  {
   "cell_type": "markdown",
   "id": "030cd3f6",
   "metadata": {},
   "source": [
    "We can find the best parameters and then can use those values to train our model and check its generalization by checking its its accuracy with test data that we reserved before."
   ]
  },
  {
   "cell_type": "code",
   "execution_count": null,
   "id": "f19557de",
   "metadata": {},
   "outputs": [
    {
     "data": {
      "text/html": [
       "\n",
       "            <style>\n",
       "                .geemap-dark {\n",
       "                    --jp-widgets-color: white;\n",
       "                    --jp-widgets-label-color: white;\n",
       "                    --jp-ui-font-color1: white;\n",
       "                    --jp-layout-color2: #454545;\n",
       "                    background-color: #383838;\n",
       "                }\n",
       "\n",
       "                .geemap-dark .jupyter-button {\n",
       "                    --jp-layout-color3: #383838;\n",
       "                }\n",
       "\n",
       "                .geemap-colab {\n",
       "                    background-color: var(--colab-primary-surface-color, white);\n",
       "                }\n",
       "\n",
       "                .geemap-colab .jupyter-button {\n",
       "                    --jp-layout-color3: var(--colab-primary-surface-color, white);\n",
       "                }\n",
       "            </style>\n",
       "            "
      ],
      "text/plain": [
       "<IPython.core.display.HTML object>"
      ]
     },
     "metadata": {},
     "output_type": "display_data"
    },
    {
     "name": "stdout",
     "output_type": "stream",
     "text": [
      "Best Hyperparameters:\n",
      "Num Trees: 15.0\n",
      "Vars/Split: 3.0\n",
      "Min Leaf: 1.0\n",
      "Bag Fraction: 0.5\n",
      "Accuracy: 99.46%\n"
     ]
    }
   ],
   "source": [
    "import pandas as pd\n",
    "\n",
    "results_df = pd.DataFrame(results)\n",
    "\n",
    "best_params = results_df.loc[results_df['accuracy'].idxmax()]\n",
    "\n",
    "# Print the best hyperparameters and corresponding accuracy\n",
    "print(\"Best Hyperparameters:\")\n",
    "print(f\"Num Trees: {best_params['num_trees']}\")\n",
    "print(f\"Vars/Split: {best_params['vars_per_split']}\")\n",
    "print(f\"Min Leaf: {best_params['min_leaf']}\")\n",
    "print(f\"Bag Fraction: {best_params['bag_fraction']}\")\n",
    "print(f\"Accuracy: {best_params['accuracy'] * 100:.2f}%\")\n"
   ]
  },
  {
   "cell_type": "code",
   "execution_count": 216,
   "id": "f4fa2e13",
   "metadata": {},
   "outputs": [
    {
     "data": {
      "text/html": [
       "\n",
       "            <style>\n",
       "                .geemap-dark {\n",
       "                    --jp-widgets-color: white;\n",
       "                    --jp-widgets-label-color: white;\n",
       "                    --jp-ui-font-color1: white;\n",
       "                    --jp-layout-color2: #454545;\n",
       "                    background-color: #383838;\n",
       "                }\n",
       "\n",
       "                .geemap-dark .jupyter-button {\n",
       "                    --jp-layout-color3: #383838;\n",
       "                }\n",
       "\n",
       "                .geemap-colab {\n",
       "                    background-color: var(--colab-primary-surface-color, white);\n",
       "                }\n",
       "\n",
       "                .geemap-colab .jupyter-button {\n",
       "                    --jp-layout-color3: var(--colab-primary-surface-color, white);\n",
       "                }\n",
       "            </style>\n",
       "            "
      ],
      "text/plain": [
       "<IPython.core.display.HTML object>"
      ]
     },
     "metadata": {},
     "output_type": "display_data"
    },
    {
     "data": {
      "text/plain": [
       "15"
      ]
     },
     "execution_count": 216,
     "metadata": {},
     "output_type": "execute_result"
    }
   ],
   "source": [
    "n_trees=int (best_params['num_trees'])\n",
    "n_trees"
   ]
  },
  {
   "cell_type": "markdown",
   "id": "a1c6a487",
   "metadata": {},
   "source": [
    "Apply the best Model and check its accuracy"
   ]
  },
  {
   "cell_type": "code",
   "execution_count": null,
   "id": "3a905600",
   "metadata": {},
   "outputs": [
    {
     "data": {
      "text/html": [
       "\n",
       "            <style>\n",
       "                .geemap-dark {\n",
       "                    --jp-widgets-color: white;\n",
       "                    --jp-widgets-label-color: white;\n",
       "                    --jp-ui-font-color1: white;\n",
       "                    --jp-layout-color2: #454545;\n",
       "                    background-color: #383838;\n",
       "                }\n",
       "\n",
       "                .geemap-dark .jupyter-button {\n",
       "                    --jp-layout-color3: #383838;\n",
       "                }\n",
       "\n",
       "                .geemap-colab {\n",
       "                    background-color: var(--colab-primary-surface-color, white);\n",
       "                }\n",
       "\n",
       "                .geemap-colab .jupyter-button {\n",
       "                    --jp-layout-color3: var(--colab-primary-surface-color, white);\n",
       "                }\n",
       "            </style>\n",
       "            "
      ],
      "text/plain": [
       "<IPython.core.display.HTML object>"
      ]
     },
     "metadata": {},
     "output_type": "display_data"
    },
    {
     "name": "stdout",
     "output_type": "stream",
     "text": [
      "Model Accuracy: 99.52%\n"
     ]
    }
   ],
   "source": [
    "n_trees=int(best_params['num_trees'])\n",
    "vars_per_split=best_params['vars_per_split']\n",
    "min_leaf=best_params['min_leaf']\n",
    "bag_fraction=best_params['bag_fraction']\n",
    "trained_classifier = ee.Classifier.smileRandomForest(\n",
    "                    n_trees,\n",
    "                    vars_per_split,\n",
    "                    min_leaf,\n",
    "                    bag_fraction,\n",
    "                    None,  \n",
    "                    42   \n",
    "                ).train(\n",
    "                    features=training,\n",
    "                    classProperty='landcover',\n",
    "                    inputProperties=selected_bands,\n",
    "                )\n",
    "test_pred = test.classify(trained_classifier)\n",
    "cm_test = test_pred.errorMatrix(\"landcover\", \"classification\")\n",
    "accuracy=cm_test.accuracy().getInfo()\n",
    "print(f'Model Accuracy: {accuracy * 100:.2f}%')"
   ]
  },
  {
   "cell_type": "code",
   "execution_count": 220,
   "id": "98d4af6b",
   "metadata": {},
   "outputs": [
    {
     "data": {
      "text/html": [
       "\n",
       "            <style>\n",
       "                .geemap-dark {\n",
       "                    --jp-widgets-color: white;\n",
       "                    --jp-widgets-label-color: white;\n",
       "                    --jp-ui-font-color1: white;\n",
       "                    --jp-layout-color2: #454545;\n",
       "                    background-color: #383838;\n",
       "                }\n",
       "\n",
       "                .geemap-dark .jupyter-button {\n",
       "                    --jp-layout-color3: #383838;\n",
       "                }\n",
       "\n",
       "                .geemap-colab {\n",
       "                    background-color: var(--colab-primary-surface-color, white);\n",
       "                }\n",
       "\n",
       "                .geemap-colab .jupyter-button {\n",
       "                    --jp-layout-color3: var(--colab-primary-surface-color, white);\n",
       "                }\n",
       "            </style>\n",
       "            "
      ],
      "text/plain": [
       "<IPython.core.display.HTML object>"
      ]
     },
     "metadata": {},
     "output_type": "display_data"
    }
   ],
   "source": [
    "best_result = image_roi.select(selected_bands).classify(trained_classifier)"
   ]
  },
  {
   "cell_type": "markdown",
   "id": "e4f4d1bf",
   "metadata": {},
   "source": [
    "Visualize the results"
   ]
  },
  {
   "cell_type": "code",
   "execution_count": null,
   "id": "c7ef0e01",
   "metadata": {},
   "outputs": [
    {
     "data": {
      "text/html": [
       "\n",
       "            <style>\n",
       "                .geemap-dark {\n",
       "                    --jp-widgets-color: white;\n",
       "                    --jp-widgets-label-color: white;\n",
       "                    --jp-ui-font-color1: white;\n",
       "                    --jp-layout-color2: #454545;\n",
       "                    background-color: #383838;\n",
       "                }\n",
       "\n",
       "                .geemap-dark .jupyter-button {\n",
       "                    --jp-layout-color3: #383838;\n",
       "                }\n",
       "\n",
       "                .geemap-colab {\n",
       "                    background-color: var(--colab-primary-surface-color, white);\n",
       "                }\n",
       "\n",
       "                .geemap-colab .jupyter-button {\n",
       "                    --jp-layout-color3: var(--colab-primary-surface-color, white);\n",
       "                }\n",
       "            </style>\n",
       "            "
      ],
      "text/plain": [
       "<IPython.core.display.HTML object>"
      ]
     },
     "metadata": {},
     "output_type": "display_data"
    },
    {
     "data": {
      "application/vnd.jupyter.widget-view+json": {
       "model_id": "3693302aa74649508bdf1d9bf174ac1e",
       "version_major": 2,
       "version_minor": 0
      },
      "text/plain": [
       "Map(bottom=528.0, center=[-80.17871349622823, -119.53125000000001], controls=(WidgetControl(options=['position…"
      ]
     },
     "execution_count": 228,
     "metadata": {},
     "output_type": "execute_result"
    }
   ],
   "source": [
    "landcover = best_result.set(\"classification_class_values\", [1, 2, 3, 4, 5])\n",
    "landcover = landcover.set(\"classification_class_palette\", ['FF0000', '0000FF', '00FF00', 'FFFF00', 'FFFF00'])\n",
    "Map.addLayer(landcover, {}, \"Land cover\")\n",
    "Map"
   ]
  }
 ],
 "metadata": {
  "kernelspec": {
   "display_name": "gee_env",
   "language": "python",
   "name": "python3"
  },
  "language_info": {
   "codemirror_mode": {
    "name": "ipython",
    "version": 3
   },
   "file_extension": ".py",
   "mimetype": "text/x-python",
   "name": "python",
   "nbconvert_exporter": "python",
   "pygments_lexer": "ipython3",
   "version": "3.8.10"
  }
 },
 "nbformat": 4,
 "nbformat_minor": 5
}
